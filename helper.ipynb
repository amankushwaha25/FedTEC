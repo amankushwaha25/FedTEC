{
 "cells": [
  {
   "cell_type": "code",
   "execution_count": 1,
   "metadata": {},
   "outputs": [
    {
     "name": "stderr",
     "output_type": "stream",
     "text": [
      "c:\\Users\\91932\\AppData\\Local\\Programs\\Python\\Python310\\lib\\site-packages\\tqdm\\auto.py:22: TqdmWarning: IProgress not found. Please update jupyter and ipywidgets. See https://ipywidgets.readthedocs.io/en/stable/user_install.html\n",
      "  from .autonotebook import tqdm as notebook_tqdm\n",
      "c:\\Users\\91932\\AppData\\Local\\Programs\\Python\\Python310\\lib\\site-packages\\torchvision\\models\\_utils.py:208: UserWarning: The parameter 'pretrained' is deprecated since 0.13 and may be removed in the future, please use 'weights' instead.\n",
      "  warnings.warn(\n",
      "c:\\Users\\91932\\AppData\\Local\\Programs\\Python\\Python310\\lib\\site-packages\\torchvision\\models\\_utils.py:223: UserWarning: Arguments other than a weight enum or `None` for 'weights' are deprecated since 0.13 and may be removed in the future. The current behavior is equivalent to passing `weights=ResNet18_Weights.IMAGENET1K_V1`. You can also use `weights=ResNet18_Weights.DEFAULT` to get the most up-to-date weights.\n",
      "  warnings.warn(msg)\n"
     ]
    },
    {
     "name": "stdout",
     "output_type": "stream",
     "text": [
      "Files already downloaded and verified\n",
      "Files already downloaded and verified\n"
     ]
    },
    {
     "ename": "KeyboardInterrupt",
     "evalue": "",
     "output_type": "error",
     "traceback": [
      "\u001b[1;31m---------------------------------------------------------------------------\u001b[0m",
      "\u001b[1;31mKeyboardInterrupt\u001b[0m                         Traceback (most recent call last)",
      "Cell \u001b[1;32mIn[1], line 70\u001b[0m\n\u001b[0;32m     68\u001b[0m running_loss_mentor \u001b[38;5;241m=\u001b[39m \u001b[38;5;241m0.0\u001b[39m\n\u001b[0;32m     69\u001b[0m running_loss_mentee \u001b[38;5;241m=\u001b[39m \u001b[38;5;241m0.0\u001b[39m\n\u001b[1;32m---> 70\u001b[0m \u001b[38;5;28;01mfor\u001b[39;00m i, data \u001b[38;5;129;01min\u001b[39;00m \u001b[38;5;28menumerate\u001b[39m(train_loader, \u001b[38;5;241m0\u001b[39m):\n\u001b[0;32m     71\u001b[0m     inputs, labels \u001b[38;5;241m=\u001b[39m data\n\u001b[0;32m     72\u001b[0m     optimizer_mentor\u001b[38;5;241m.\u001b[39mzero_grad()\n",
      "File \u001b[1;32mc:\\Users\\91932\\AppData\\Local\\Programs\\Python\\Python310\\lib\\site-packages\\torch\\utils\\data\\dataloader.py:630\u001b[0m, in \u001b[0;36m_BaseDataLoaderIter.__next__\u001b[1;34m(self)\u001b[0m\n\u001b[0;32m    627\u001b[0m \u001b[38;5;28;01mif\u001b[39;00m \u001b[38;5;28mself\u001b[39m\u001b[38;5;241m.\u001b[39m_sampler_iter \u001b[38;5;129;01mis\u001b[39;00m \u001b[38;5;28;01mNone\u001b[39;00m:\n\u001b[0;32m    628\u001b[0m     \u001b[38;5;66;03m# TODO(https://github.com/pytorch/pytorch/issues/76750)\u001b[39;00m\n\u001b[0;32m    629\u001b[0m     \u001b[38;5;28mself\u001b[39m\u001b[38;5;241m.\u001b[39m_reset()  \u001b[38;5;66;03m# type: ignore[call-arg]\u001b[39;00m\n\u001b[1;32m--> 630\u001b[0m data \u001b[38;5;241m=\u001b[39m \u001b[38;5;28;43mself\u001b[39;49m\u001b[38;5;241;43m.\u001b[39;49m\u001b[43m_next_data\u001b[49m\u001b[43m(\u001b[49m\u001b[43m)\u001b[49m\n\u001b[0;32m    631\u001b[0m \u001b[38;5;28mself\u001b[39m\u001b[38;5;241m.\u001b[39m_num_yielded \u001b[38;5;241m+\u001b[39m\u001b[38;5;241m=\u001b[39m \u001b[38;5;241m1\u001b[39m\n\u001b[0;32m    632\u001b[0m \u001b[38;5;28;01mif\u001b[39;00m \u001b[38;5;28mself\u001b[39m\u001b[38;5;241m.\u001b[39m_dataset_kind \u001b[38;5;241m==\u001b[39m _DatasetKind\u001b[38;5;241m.\u001b[39mIterable \u001b[38;5;129;01mand\u001b[39;00m \\\n\u001b[0;32m    633\u001b[0m         \u001b[38;5;28mself\u001b[39m\u001b[38;5;241m.\u001b[39m_IterableDataset_len_called \u001b[38;5;129;01mis\u001b[39;00m \u001b[38;5;129;01mnot\u001b[39;00m \u001b[38;5;28;01mNone\u001b[39;00m \u001b[38;5;129;01mand\u001b[39;00m \\\n\u001b[0;32m    634\u001b[0m         \u001b[38;5;28mself\u001b[39m\u001b[38;5;241m.\u001b[39m_num_yielded \u001b[38;5;241m>\u001b[39m \u001b[38;5;28mself\u001b[39m\u001b[38;5;241m.\u001b[39m_IterableDataset_len_called:\n",
      "File \u001b[1;32mc:\\Users\\91932\\AppData\\Local\\Programs\\Python\\Python310\\lib\\site-packages\\torch\\utils\\data\\dataloader.py:674\u001b[0m, in \u001b[0;36m_SingleProcessDataLoaderIter._next_data\u001b[1;34m(self)\u001b[0m\n\u001b[0;32m    672\u001b[0m \u001b[38;5;28;01mdef\u001b[39;00m \u001b[38;5;21m_next_data\u001b[39m(\u001b[38;5;28mself\u001b[39m):\n\u001b[0;32m    673\u001b[0m     index \u001b[38;5;241m=\u001b[39m \u001b[38;5;28mself\u001b[39m\u001b[38;5;241m.\u001b[39m_next_index()  \u001b[38;5;66;03m# may raise StopIteration\u001b[39;00m\n\u001b[1;32m--> 674\u001b[0m     data \u001b[38;5;241m=\u001b[39m \u001b[38;5;28;43mself\u001b[39;49m\u001b[38;5;241;43m.\u001b[39;49m\u001b[43m_dataset_fetcher\u001b[49m\u001b[38;5;241;43m.\u001b[39;49m\u001b[43mfetch\u001b[49m\u001b[43m(\u001b[49m\u001b[43mindex\u001b[49m\u001b[43m)\u001b[49m  \u001b[38;5;66;03m# may raise StopIteration\u001b[39;00m\n\u001b[0;32m    675\u001b[0m     \u001b[38;5;28;01mif\u001b[39;00m \u001b[38;5;28mself\u001b[39m\u001b[38;5;241m.\u001b[39m_pin_memory:\n\u001b[0;32m    676\u001b[0m         data \u001b[38;5;241m=\u001b[39m _utils\u001b[38;5;241m.\u001b[39mpin_memory\u001b[38;5;241m.\u001b[39mpin_memory(data, \u001b[38;5;28mself\u001b[39m\u001b[38;5;241m.\u001b[39m_pin_memory_device)\n",
      "File \u001b[1;32mc:\\Users\\91932\\AppData\\Local\\Programs\\Python\\Python310\\lib\\site-packages\\torch\\utils\\data\\_utils\\fetch.py:51\u001b[0m, in \u001b[0;36m_MapDatasetFetcher.fetch\u001b[1;34m(self, possibly_batched_index)\u001b[0m\n\u001b[0;32m     49\u001b[0m         data \u001b[38;5;241m=\u001b[39m \u001b[38;5;28mself\u001b[39m\u001b[38;5;241m.\u001b[39mdataset\u001b[38;5;241m.\u001b[39m__getitems__(possibly_batched_index)\n\u001b[0;32m     50\u001b[0m     \u001b[38;5;28;01melse\u001b[39;00m:\n\u001b[1;32m---> 51\u001b[0m         data \u001b[38;5;241m=\u001b[39m [\u001b[38;5;28mself\u001b[39m\u001b[38;5;241m.\u001b[39mdataset[idx] \u001b[38;5;28;01mfor\u001b[39;00m idx \u001b[38;5;129;01min\u001b[39;00m possibly_batched_index]\n\u001b[0;32m     52\u001b[0m \u001b[38;5;28;01melse\u001b[39;00m:\n\u001b[0;32m     53\u001b[0m     data \u001b[38;5;241m=\u001b[39m \u001b[38;5;28mself\u001b[39m\u001b[38;5;241m.\u001b[39mdataset[possibly_batched_index]\n",
      "File \u001b[1;32mc:\\Users\\91932\\AppData\\Local\\Programs\\Python\\Python310\\lib\\site-packages\\torch\\utils\\data\\_utils\\fetch.py:51\u001b[0m, in \u001b[0;36m<listcomp>\u001b[1;34m(.0)\u001b[0m\n\u001b[0;32m     49\u001b[0m         data \u001b[38;5;241m=\u001b[39m \u001b[38;5;28mself\u001b[39m\u001b[38;5;241m.\u001b[39mdataset\u001b[38;5;241m.\u001b[39m__getitems__(possibly_batched_index)\n\u001b[0;32m     50\u001b[0m     \u001b[38;5;28;01melse\u001b[39;00m:\n\u001b[1;32m---> 51\u001b[0m         data \u001b[38;5;241m=\u001b[39m [\u001b[38;5;28;43mself\u001b[39;49m\u001b[38;5;241;43m.\u001b[39;49m\u001b[43mdataset\u001b[49m\u001b[43m[\u001b[49m\u001b[43midx\u001b[49m\u001b[43m]\u001b[49m \u001b[38;5;28;01mfor\u001b[39;00m idx \u001b[38;5;129;01min\u001b[39;00m possibly_batched_index]\n\u001b[0;32m     52\u001b[0m \u001b[38;5;28;01melse\u001b[39;00m:\n\u001b[0;32m     53\u001b[0m     data \u001b[38;5;241m=\u001b[39m \u001b[38;5;28mself\u001b[39m\u001b[38;5;241m.\u001b[39mdataset[possibly_batched_index]\n",
      "File \u001b[1;32mc:\\Users\\91932\\AppData\\Local\\Programs\\Python\\Python310\\lib\\site-packages\\torchvision\\datasets\\cifar.py:118\u001b[0m, in \u001b[0;36mCIFAR10.__getitem__\u001b[1;34m(self, index)\u001b[0m\n\u001b[0;32m    115\u001b[0m img \u001b[38;5;241m=\u001b[39m Image\u001b[38;5;241m.\u001b[39mfromarray(img)\n\u001b[0;32m    117\u001b[0m \u001b[38;5;28;01mif\u001b[39;00m \u001b[38;5;28mself\u001b[39m\u001b[38;5;241m.\u001b[39mtransform \u001b[38;5;129;01mis\u001b[39;00m \u001b[38;5;129;01mnot\u001b[39;00m \u001b[38;5;28;01mNone\u001b[39;00m:\n\u001b[1;32m--> 118\u001b[0m     img \u001b[38;5;241m=\u001b[39m \u001b[38;5;28;43mself\u001b[39;49m\u001b[38;5;241;43m.\u001b[39;49m\u001b[43mtransform\u001b[49m\u001b[43m(\u001b[49m\u001b[43mimg\u001b[49m\u001b[43m)\u001b[49m\n\u001b[0;32m    120\u001b[0m \u001b[38;5;28;01mif\u001b[39;00m \u001b[38;5;28mself\u001b[39m\u001b[38;5;241m.\u001b[39mtarget_transform \u001b[38;5;129;01mis\u001b[39;00m \u001b[38;5;129;01mnot\u001b[39;00m \u001b[38;5;28;01mNone\u001b[39;00m:\n\u001b[0;32m    121\u001b[0m     target \u001b[38;5;241m=\u001b[39m \u001b[38;5;28mself\u001b[39m\u001b[38;5;241m.\u001b[39mtarget_transform(target)\n",
      "File \u001b[1;32mc:\\Users\\91932\\AppData\\Local\\Programs\\Python\\Python310\\lib\\site-packages\\torchvision\\transforms\\transforms.py:95\u001b[0m, in \u001b[0;36mCompose.__call__\u001b[1;34m(self, img)\u001b[0m\n\u001b[0;32m     93\u001b[0m \u001b[38;5;28;01mdef\u001b[39;00m \u001b[38;5;21m__call__\u001b[39m(\u001b[38;5;28mself\u001b[39m, img):\n\u001b[0;32m     94\u001b[0m     \u001b[38;5;28;01mfor\u001b[39;00m t \u001b[38;5;129;01min\u001b[39;00m \u001b[38;5;28mself\u001b[39m\u001b[38;5;241m.\u001b[39mtransforms:\n\u001b[1;32m---> 95\u001b[0m         img \u001b[38;5;241m=\u001b[39m \u001b[43mt\u001b[49m\u001b[43m(\u001b[49m\u001b[43mimg\u001b[49m\u001b[43m)\u001b[49m\n\u001b[0;32m     96\u001b[0m     \u001b[38;5;28;01mreturn\u001b[39;00m img\n",
      "File \u001b[1;32mc:\\Users\\91932\\AppData\\Local\\Programs\\Python\\Python310\\lib\\site-packages\\torchvision\\transforms\\transforms.py:137\u001b[0m, in \u001b[0;36mToTensor.__call__\u001b[1;34m(self, pic)\u001b[0m\n\u001b[0;32m    129\u001b[0m \u001b[38;5;28;01mdef\u001b[39;00m \u001b[38;5;21m__call__\u001b[39m(\u001b[38;5;28mself\u001b[39m, pic):\n\u001b[0;32m    130\u001b[0m \u001b[38;5;250m    \u001b[39m\u001b[38;5;124;03m\"\"\"\u001b[39;00m\n\u001b[0;32m    131\u001b[0m \u001b[38;5;124;03m    Args:\u001b[39;00m\n\u001b[0;32m    132\u001b[0m \u001b[38;5;124;03m        pic (PIL Image or numpy.ndarray): Image to be converted to tensor.\u001b[39;00m\n\u001b[1;32m   (...)\u001b[0m\n\u001b[0;32m    135\u001b[0m \u001b[38;5;124;03m        Tensor: Converted image.\u001b[39;00m\n\u001b[0;32m    136\u001b[0m \u001b[38;5;124;03m    \"\"\"\u001b[39;00m\n\u001b[1;32m--> 137\u001b[0m     \u001b[38;5;28;01mreturn\u001b[39;00m \u001b[43mF\u001b[49m\u001b[38;5;241;43m.\u001b[39;49m\u001b[43mto_tensor\u001b[49m\u001b[43m(\u001b[49m\u001b[43mpic\u001b[49m\u001b[43m)\u001b[49m\n",
      "File \u001b[1;32mc:\\Users\\91932\\AppData\\Local\\Programs\\Python\\Python310\\lib\\site-packages\\torchvision\\transforms\\functional.py:172\u001b[0m, in \u001b[0;36mto_tensor\u001b[1;34m(pic)\u001b[0m\n\u001b[0;32m    170\u001b[0m img \u001b[38;5;241m=\u001b[39m img\u001b[38;5;241m.\u001b[39mview(pic\u001b[38;5;241m.\u001b[39msize[\u001b[38;5;241m1\u001b[39m], pic\u001b[38;5;241m.\u001b[39msize[\u001b[38;5;241m0\u001b[39m], F_pil\u001b[38;5;241m.\u001b[39mget_image_num_channels(pic))\n\u001b[0;32m    171\u001b[0m \u001b[38;5;66;03m# put it from HWC to CHW format\u001b[39;00m\n\u001b[1;32m--> 172\u001b[0m img \u001b[38;5;241m=\u001b[39m \u001b[43mimg\u001b[49m\u001b[38;5;241;43m.\u001b[39;49m\u001b[43mpermute\u001b[49m\u001b[43m(\u001b[49m\u001b[43m(\u001b[49m\u001b[38;5;241;43m2\u001b[39;49m\u001b[43m,\u001b[49m\u001b[43m \u001b[49m\u001b[38;5;241;43m0\u001b[39;49m\u001b[43m,\u001b[49m\u001b[43m \u001b[49m\u001b[38;5;241;43m1\u001b[39;49m\u001b[43m)\u001b[49m\u001b[43m)\u001b[49m\u001b[38;5;241m.\u001b[39mcontiguous()\n\u001b[0;32m    173\u001b[0m \u001b[38;5;28;01mif\u001b[39;00m \u001b[38;5;28misinstance\u001b[39m(img, torch\u001b[38;5;241m.\u001b[39mByteTensor):\n\u001b[0;32m    174\u001b[0m     \u001b[38;5;28;01mreturn\u001b[39;00m img\u001b[38;5;241m.\u001b[39mto(dtype\u001b[38;5;241m=\u001b[39mdefault_float_dtype)\u001b[38;5;241m.\u001b[39mdiv(\u001b[38;5;241m255\u001b[39m)\n",
      "\u001b[1;31mKeyboardInterrupt\u001b[0m: "
     ]
    }
   ],
   "source": [
    "import torch\n",
    "import torch.nn as nn\n",
    "import torch.optim as optim\n",
    "import torchvision\n",
    "from torchvision import datasets, models, transforms\n",
    "from torch.utils.tensorboard import SummaryWriter\n",
    "import torch.nn.functional as F\n",
    "# Define the custom mentee model\n",
    "class MenteeModel(nn.Module):\n",
    "    def __init__(self) -> None:\n",
    "        super().__init__()\n",
    "        self.conv1 = nn.Conv2d(3, 6, 5)\n",
    "        self.pool = nn.MaxPool2d(2, 2)\n",
    "        self.conv2 = nn.Conv2d(6, 16, 5)\n",
    "        self.fc1 = nn.Linear(16*5*5, 120)\n",
    "        self.fc2 = nn.Linear(120, 84)\n",
    "        self.fc3 = nn.Linear(84, 10)\n",
    "    \n",
    "    def forward(self, x):\n",
    "        x = self.pool(F.relu(self.conv1(x)))\n",
    "        x = self.pool(F.relu(self.conv2(x)))\n",
    "        x = torch.flatten(x, 1)\n",
    "        x = F.relu(self.fc1(x))\n",
    "        x = F.relu(self.fc2(x))\n",
    "        x = self.fc3(x)\n",
    "        return x\n",
    "\n",
    "# Load pre-trained ResNet18 model\n",
    "resnet18 = models.resnet18(pretrained=True)\n",
    "\n",
    "# Freeze the initial layers of ResNet18\n",
    "for param in resnet18.parameters():\n",
    "    param.requires_grad = False\n",
    "\n",
    "# Modify the last fully connected layer of ResNet18 to match the number of classes\n",
    "num_ftrs = resnet18.fc.in_features\n",
    "resnet18.fc = nn.Linear(num_ftrs, 10)  # Assuming 10 classes for example\n",
    "\n",
    "# Initialize the mentee model\n",
    "mentee_model = MenteeModel()\n",
    "\n",
    "# Define transformations for data augmentation and normalization\n",
    "transform = transforms.Compose([\n",
    "    transforms.ToTensor(),\n",
    "    transforms.Normalize(mean=[0.5,0.5,0.5], std=[0.5,0.5,0.5])\n",
    "])\n",
    "\n",
    "# Load datasets for training and validation\n",
    "train_dataset = datasets.CIFAR10(root='./data', train=True, download=True, transform=transform)\n",
    "train_loader = torch.utils.data.DataLoader(train_dataset, batch_size=64, shuffle=True)\n",
    "val_dataset = datasets.CIFAR10(root='./data', train=False, download=True, transform=transform)\n",
    "val_loader = torch.utils.data.DataLoader(val_dataset, batch_size=64, shuffle=False)\n",
    "\n",
    "# Define loss function and optimizer for mentor model\n",
    "criterion_mentor = nn.CrossEntropyLoss()\n",
    "optimizer_mentor = optim.SGD(resnet18.parameters(), lr=0.001, momentum=0.9)\n",
    "\n",
    "# Define loss function and optimizer for mentee model\n",
    "criterion_mentee = nn.CrossEntropyLoss()\n",
    "optimizer_mentee = optim.SGD(mentee_model.parameters(), lr=0.001, momentum=0.9)\n",
    "\n",
    "# Initialize TensorBoard writer\n",
    "writer = SummaryWriter()\n",
    "\n",
    "# Training loop\n",
    "num_epochs = 10\n",
    "for epoch in range(num_epochs):\n",
    "    running_loss_mentor = 0.0\n",
    "    running_loss_mentee = 0.0\n",
    "    for i, data in enumerate(train_loader, 0):\n",
    "        inputs, labels = data\n",
    "        optimizer_mentor.zero_grad()\n",
    "        optimizer_mentee.zero_grad()\n",
    "\n",
    "        # Forward pass for mentor\n",
    "        outputs_mentor = resnet18(inputs)\n",
    "        loss_mentor = criterion_mentor(outputs_mentor, labels)\n",
    "\n",
    "        # Forward pass for mentee\n",
    "        outputs_mentee = mentee_model(inputs)\n",
    "        loss_mentee = criterion_mentee(outputs_mentee, labels)\n",
    "\n",
    "        # Knowledge distillation loss\n",
    "        temperature = 5\n",
    "        soft_outputs_mentor = nn.functional.softmax(outputs_mentor / temperature, dim=1)\n",
    "        soft_outputs_mentee = nn.functional.softmax(outputs_mentee / temperature, dim=1)\n",
    "        distillation_loss = nn.functional.kl_div(soft_outputs_mentor.log(), soft_outputs_mentee, reduction='batchmean')\n",
    "        total_loss = loss_mentee + distillation_loss\n",
    "\n",
    "        # Backward pass for mentor\n",
    "        total_loss.backward(retain_graph=True)  # Retain graph for backward pass of mentee\n",
    "\n",
    "        # Backward pass for mentee\n",
    "        loss_mentee.backward()\n",
    "\n",
    "        # Optimizer step for mentor\n",
    "        optimizer_mentor.step()\n",
    "\n",
    "        # Optimizer step for mentee\n",
    "        optimizer_mentee.step()\n",
    "\n",
    "        # Log loss to TensorBoard\n",
    "       \n",
    "        running_loss_mentor += loss_mentor.item()\n",
    "        running_loss_mentee += loss_mentee.item()\n",
    "\n",
    "        if i % 100 == 99:  # Print every 100 mini-batches\n",
    "            writer.add_scalar('mentor_training_loss', loss_mentor.item(), epoch * len(train_loader) + i)\n",
    "            writer.add_scalar('mentee_training_loss', loss_mentee.item(), epoch * len(train_loader) + i)\n",
    "\n",
    "print('Finished Training')\n",
    "\n",
    "# Save the trained models\n",
    "torch.save(resnet18.state_dict(), 'resnet18_mentor.pth')\n",
    "torch.save(mentee_model.state_dict(), 'mentee_model.pth')\n"
   ]
  },
  {
   "cell_type": "code",
   "execution_count": 17,
   "metadata": {},
   "outputs": [],
   "source": [
    "import torch\n",
    "import torch.nn as nn\n",
    "import torch.optim as optim\n",
    "import torchvision\n",
    "from torchvision import datasets, models, transforms\n",
    "from model import model\n",
    "from torch.utils.tensorboard import SummaryWriter\n",
    "model1 = model()\n",
    "writer = SummaryWriter()"
   ]
  },
  {
   "cell_type": "code",
   "execution_count": 18,
   "metadata": {},
   "outputs": [
    {
     "name": "stdout",
     "output_type": "stream",
     "text": [
      "Files already downloaded and verified\n",
      "Files already downloaded and verified\n"
     ]
    }
   ],
   "source": [
    "transform = transforms.Compose([\n",
    "    transforms.ToTensor(),\n",
    "    transforms.Normalize(mean=[0.5,0.5,0.5], std=[0.5,0.5,0.5])\n",
    "])\n",
    "\n",
    "# Load datasets for training and validation\n",
    "train_dataset = datasets.CIFAR10(root='./data', train=True, download=True, transform=transform)\n",
    "train_loader = torch.utils.data.DataLoader(train_dataset, batch_size=64, shuffle=True)\n",
    "val_dataset = datasets.CIFAR10(root='./data', train=False, download=True, transform=transform)\n",
    "val_loader = torch.utils.data.DataLoader(val_dataset, batch_size=64, shuffle=False)"
   ]
  },
  {
   "cell_type": "code",
   "execution_count": 19,
   "metadata": {},
   "outputs": [],
   "source": [
    "model1_loss = nn.CrossEntropyLoss()\n",
    "model1_optim = optim.SGD(model1.parameters(), lr=0.001, momentum=0.9)"
   ]
  },
  {
   "cell_type": "code",
   "execution_count": 20,
   "metadata": {},
   "outputs": [
    {
     "name": "stdout",
     "output_type": "stream",
     "text": [
      "Finished Training\n"
     ]
    }
   ],
   "source": [
    "num_epochs = 10\n",
    "for epoch in range(num_epochs):\n",
    "    running_loss_mentee = 0.0\n",
    "    for i, data in enumerate(train_loader, 0):\n",
    "        inputs, labels = data\n",
    "        \n",
    "        model1_optim.zero_grad()\n",
    "\n",
    "       \n",
    "        output = model1(inputs)\n",
    "        loss = model1_loss(output, labels)\n",
    "\n",
    "        # Backward pass for mentor\n",
    "        loss.backward(retain_graph=True)  # Retain graph for backward pass of mentee\n",
    "\n",
    "        # Backward pass for mentee\n",
    "        loss.backward()\n",
    "\n",
    "        # Optimizer step for mentor\n",
    "        model1_optim.step()\n",
    "\n",
    "        \n",
    "        # Log loss to TensorBoard\n",
    "        running_loss_mentee += loss.item()\n",
    "\n",
    "        if i % 100 == 99:  # Print every 100 mini-batches\n",
    "            writer.add_scalar('mentee_training_loss', loss.item(), epoch * len(train_loader) + i)\n",
    "\n",
    "print('Finished Training')\n",
    "\n",
    "# Save the trained models\n",
    "\n",
    "torch.save(model1.state_dict(), 'model1.pth')"
   ]
  },
  {
   "cell_type": "code",
   "execution_count": 25,
   "metadata": {},
   "outputs": [],
   "source": [
    "model2 = model()"
   ]
  },
  {
   "cell_type": "code",
   "execution_count": 26,
   "metadata": {},
   "outputs": [],
   "source": [
    "model2_loss = nn.CrossEntropyLoss()\n",
    "model2_optim = optim.SGD(model1.parameters(), lr=0.001, momentum=0.9)"
   ]
  },
  {
   "cell_type": "code",
   "execution_count": 27,
   "metadata": {},
   "outputs": [],
   "source": [
    "writer2 = SummaryWriter()"
   ]
  },
  {
   "cell_type": "code",
   "execution_count": 28,
   "metadata": {},
   "outputs": [
    {
     "name": "stdout",
     "output_type": "stream",
     "text": [
      "Finished Training\n"
     ]
    }
   ],
   "source": [
    "num_epochs = 10\n",
    "for epoch in range(num_epochs):\n",
    "    running_loss_mentee = 0.0\n",
    "    for i, data in enumerate(train_loader, 0):\n",
    "        inputs, labels = data\n",
    "        \n",
    "        model2_optim.zero_grad()\n",
    "\n",
    "       \n",
    "        output = model2(inputs)\n",
    "        loss = model2_loss(output, labels)\n",
    "\n",
    "        # Backward pass for mentor\n",
    "        loss.backward(retain_graph=True)  # Retain graph for backward pass of mentee\n",
    "\n",
    "        # Backward pass for mentee\n",
    "        loss.backward()\n",
    "\n",
    "        # Optimizer step for mentor\n",
    "        model2_optim.step()\n",
    "\n",
    "        \n",
    "        # Log loss to TensorBoard\n",
    "        running_loss_mentee += loss.item()\n",
    "\n",
    "        if i % 100 == 99:  # Print every 100 mini-batches\n",
    "            writer2.add_scalar('mentee_training_loss', loss.item(), epoch * len(train_loader) + i)\n",
    "\n",
    "print('Finished Training')\n",
    "\n",
    "# Save the trained models\n",
    "\n",
    "torch.save(model2.state_dict(), 'model2.pth')"
   ]
  },
  {
   "cell_type": "code",
   "execution_count": 32,
   "metadata": {},
   "outputs": [],
   "source": [
    "torch.save(model2.state_dict(), 'model2.pt')"
   ]
  },
  {
   "cell_type": "code",
   "execution_count": 13,
   "metadata": {},
   "outputs": [],
   "source": [
    "class child:\n",
    "    def __init__(self) -> None:\n",
    "        self.values = 1\n",
    "class parent:\n",
    "    def __init__(self) -> None:\n",
    "        self.childs = [child() for _ in range(3)]\n",
    "    def function(self):\n",
    "        for child in self.childs:\n",
    "            child.values = 2"
   ]
  },
  {
   "cell_type": "code",
   "execution_count": 14,
   "metadata": {},
   "outputs": [],
   "source": [
    "parent = parent()"
   ]
  },
  {
   "cell_type": "code",
   "execution_count": 17,
   "metadata": {},
   "outputs": [],
   "source": [
    "parent.function()"
   ]
  },
  {
   "cell_type": "code",
   "execution_count": 18,
   "metadata": {},
   "outputs": [
    {
     "name": "stdout",
     "output_type": "stream",
     "text": [
      "2\n",
      "2\n",
      "2\n"
     ]
    }
   ],
   "source": [
    "for child in parent.childs:\n",
    "    print(child.values)"
   ]
  },
  {
   "cell_type": "code",
   "execution_count": 3,
   "metadata": {},
   "outputs": [],
   "source": [
    "from datetime import datetime\n",
    "from multiprocessing import Pool\n",
    "import time\n",
    "\n",
    "lst = [(2, 2),  (4, 4), (5, 5),(6,6),(3, 3),]\n",
    "result = []\n",
    "\n",
    "def mul(x):\n",
    "    print(f\"start process {x}\")\n",
    "    time.sleep(3)\n",
    "    print(f\"end process {x}\")\n",
    "    res = x[0] * x[1]\n",
    "    res_ap = (x[0] , x[1] , res)\n",
    "    return res_ap\n",
    "\n",
    "# Map\n",
    "def test_map():\n",
    "    pool = Pool(processes=10)\n",
    "    res = pool.map(mul, lst,chunksize=2)\n",
    "    result.append(res)\n",
    "    pool.close()\n",
    "    pool.join()\n",
    "    print(result)\n",
    "\n",
    "if __name__ == '__main__':\n",
    "    start = datetime.now()\n",
    "    test_map()\n",
    "    print(\"End Time Map:\", (datetime.now() - start).total_seconds())"
   ]
  },
  {
   "cell_type": "code",
   "execution_count": 20,
   "metadata": {},
   "outputs": [
    {
     "name": "stdout",
     "output_type": "stream",
     "text": [
      "Files already downloaded and verified\n",
      "num_labels = 10\n",
      "alpha * torch tensor([0.1000, 0.1000, 0.1000, 0.1000, 0.1000, 0.1000, 0.1000, 0.1000, 0.1000,\n",
      "        0.1000])\n",
      "dirichlet distribution = Dirichlet(concentration: torch.Size([10]))\n",
      "client label distribution = tensor([1.0000, 1.0000, 1.0000, 1.0000, 1.0000, 1.0000, 1.0000, 1.0000, 1.0000,\n",
      "        1.0000])\n",
      "done\n"
     ]
    }
   ],
   "source": [
    "import torch\n",
    "import torchvision\n",
    "from torchvision import transforms\n",
    "from torch.utils.data import Subset, DataLoader\n",
    "import numpy as np\n",
    "import matplotlib.pyplot as plt\n",
    "import seaborn as sns\n",
    "\n",
    "def data_generator(num_clients=10, alpha=0.1, datasetName = 'CIFAR10'):\n",
    "    \"\"\"\n",
    "    The function downloads the CIFAR10 dataset and splits the \n",
    "    dataset into a number of clients based on the Dirichlet distribution.\n",
    "\n",
    "    Parameters:\n",
    "        num_clients: (int) Number of clients.\n",
    "        alpha: (float) Concentration parameter for Dirichlet distribution.\n",
    "\n",
    "    Returns:\n",
    "        List of DataLoader objects for each client's dataset.\n",
    "    \"\"\"\n",
    "    transform = transforms.Compose([\n",
    "        transforms.ToTensor(),\n",
    "        transforms.Normalize((0.5, 0.5, 0.5), (0.5, 0.5, 0.5))\n",
    "    ])\n",
    "\n",
    "    if datasetName == 'CIFAR10':\n",
    "        trainset = torchvision.datasets.CIFAR10(root='./data', train=True,\n",
    "                                            download=True, transform=transform)\n",
    "    # elif datasetName == 'CIFAR100':   \n",
    "    #     trainset = torchvision.datasets.CIFAR100(root='./data', train=True,\n",
    "    #                                           download=True, transform=transform)\n",
    "    # elif datasetName == 'TinyImageNet':\n",
    "    #     trainset = torchvision.datasets.ImageFolder(root='./data/tiny-imagenet-200/train', transform=transform)\n",
    "    \n",
    "    num_labels = len(trainset.classes)\n",
    "    print(f\"num_labels = {num_labels}\")\n",
    "    # Generate distribution for each client using Dirichlet distribution\n",
    "    print(f\"alpha * torch {alpha * torch.ones(num_labels)}\")\n",
    "\n",
    "    dirichlet_distribution = torch.distributions.dirichlet.Dirichlet(alpha * torch.ones(num_labels))\n",
    "    print(f\"dirichlet distribution = {dirichlet_distribution}\")\n",
    "\n",
    "    client_label_distributions = dirichlet_distribution.sample(torch.Size([num_clients]))\n",
    "    print(f\"client label distribution = {sum(client_label_distributions.T)}\")\n",
    "    \n",
    "    client_datasets = []\n",
    "    for i in range(num_clients):\n",
    "        label_counts = (client_label_distributions[i] * len(trainset)).int()\n",
    "        indices = torch.multinomial(torch.ones(len(trainset)), label_counts.sum(), replacement=False)\n",
    "        subset = Subset(trainset, indices)\n",
    "        client_datasets.append(subset)\n",
    "\n",
    "    # Create data loaders for each client dataset\n",
    "    client_loaders = []\n",
    "    for dataset in client_datasets:\n",
    "        loader = DataLoader(dataset, shuffle=True, num_workers=2, batch_size=32)\n",
    "        client_loaders.append(loader)\n",
    "    return client_loaders\n",
    "\n",
    "def generate_heatmap(client_loaders):\n",
    "    \"\"\"\n",
    "    Generate a heatmap to visualize label quantities for each client.\n",
    "\n",
    "    Parameters:\n",
    "        client_loaders: List of DataLoader objects for each client's dataset.\n",
    "\n",
    "    Returns:\n",
    "        None (Displays the heatmap).\n",
    "    \"\"\"\n",
    "    # Initialize an empty numpy array to store label quantities for each client\n",
    "    num_clients = len(client_loaders)\n",
    "    num_classes = 10  # CIFAR-10 has 10 classes\n",
    "    label_quantities = np.zeros((num_clients, num_classes))\n",
    "\n",
    "    # Calculate label quantities for each client\n",
    "    for i, loader in enumerate(client_loaders):\n",
    "        for _, labels in loader:\n",
    "            for label in labels:\n",
    "                label_quantities[i][label] += 1\n",
    "\n",
    "    # Create a heatmap using Seaborn\n",
    "    plt.figure(figsize=(10, 6))\n",
    "    sns.heatmap(label_quantities, annot=True, fmt='g', cmap='viridis')\n",
    "    plt.xlabel('Classes')\n",
    "    plt.ylabel('Clients')\n",
    "    plt.title('Label Quantities for Each Client')\n",
    "    plt.show()\n",
    "\n",
    "\n",
    "if __name__ == \"__main__\":\n",
    "   client_data = data_generator()\n",
    "   print('done')\n",
    "#    generate_heatmap(client_data)"
   ]
  },
  {
   "cell_type": "code",
   "execution_count": 14,
   "metadata": {},
   "outputs": [
    {
     "data": {
      "image/png": "[encoded data removed]",
      "text/plain": [
       "<Figure size 1000x600 with 1 Axes>"
      ]
     },
     "metadata": {},
     "output_type": "display_data"
    }
   ],
   "source": [
    "import os\n",
    "import pandas as pd\n",
    "import matplotlib.pyplot as plt\n",
    "\n",
    "def plot_client_losses(folder_path):\n",
    "    plt.figure(figsize=(10, 6))\n",
    "    \n",
    "    for file_name in os.listdir(folder_path):\n",
    "        if file_name.endswith('.csv'):\n",
    "            client_name = os.path.splitext(file_name)[0]\n",
    "            file_path = os.path.join(folder_path, file_name)\n",
    "            \n",
    "            # Read CSV file\n",
    "            df = pd.read_csv(file_path)\n",
    "            \n",
    "            # Extract data\n",
    "            global_epochs = df['Global Epoch']\n",
    "            local_epochs = df['Local Epoch']\n",
    "            index = df.index\n",
    "            losses = df['Loss']\n",
    "\n",
    "            # Plot\n",
    "            plt.plot(index, losses, label=client_name)\n",
    "\n",
    "    plt.title('Loss for Each Client')\n",
    "    plt.xlabel('Global Epoch')\n",
    "    plt.ylabel('Loss')\n",
    "    plt.legend()\n",
    "    plt.grid(True)\n",
    "    plt.ticklabel_format(axis='y', style='plain')  # Disable scientific notation\n",
    "    plt.gca().yaxis.set_major_formatter(plt.FormatStrFormatter('%.3f'))  # Format y-axis labels to 3 decimal places\n",
    "    plt.show()\n",
    "\n",
    "folder_path = \"./ClientLoss\"  # Change this to your folder path\n",
    "plot_client_losses(folder_path)\n"
   ]
  },
  {
   "cell_type": "code",
   "execution_count": 9,
   "metadata": {},
   "outputs": [],
   "source": [
    "import pandas as pd\n",
    "df = pd.read_csv('./ClientLoss/client_0.csv')"
   ]
  },
  {
   "cell_type": "code",
   "execution_count": 11,
   "metadata": {},
   "outputs": [
    {
     "data": {
      "text/plain": [
       "Index(['Global Epoch', 'Local Epoch', 'Loss'], dtype='object')"
      ]
     },
     "execution_count": 11,
     "metadata": {},
     "output_type": "execute_result"
    }
   ],
   "source": [
    "df.columns"
   ]
  }
 ],
 "metadata": {
  "kernelspec": {
   "display_name": "Python 3",
   "language": "python",
   "name": "python3"
  },
  "language_info": {
   "codemirror_mode": {
    "name": "ipython",
    "version": 3
   },
   "file_extension": ".py",
   "mimetype": "text/x-python",
   "name": "python",
   "nbconvert_exporter": "python",
   "pygments_lexer": "ipython3",
   "version": "3.10.7"
  }
 },
 "nbformat": 4,
 "nbformat_minor": 2
}
