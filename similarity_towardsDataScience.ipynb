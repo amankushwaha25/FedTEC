{
  "cells": [
    {
      "cell_type": "markdown",
      "metadata": {
        "id": "YCKZc93RH8g_"
      },
      "source": [
        "# Do Wide and Deep Neural Networks Learn the Same Things?"
      ]
    },
    {
      "cell_type": "markdown",
      "metadata": {
        "id": "WFLBwIg1IBcj"
      },
      "source": [
        "Paper is:\n",
        "\n",
        "[Do Wide and Deep Networks Learn the Same Things? Uncovering How Neural Network Representations Vary with Width and Depth](https://arxiv.org/abs/2010.15327)\n",
        "\n",
        "by\n",
        "\n",
        "Nguyen, Thao and Raghu, Maithra and Kornblith, Simon"
      ]
    },
    {
      "cell_type": "markdown",
      "metadata": {
        "id": "m-rhGNAq25d-"
      },
      "source": [
        "### Preliminary code"
      ]
    },
    {
      "cell_type": "code",
      "execution_count": 1,
      "metadata": {
        "id": "uZWVZrMsHjOl"
      },
      "outputs": [],
      "source": [
        "import numpy as np\n",
        "import tqdm"
      ]
    },
    {
      "cell_type": "code",
      "execution_count": 2,
      "metadata": {
        "id": "uMlhri6t98kW"
      },
      "outputs": [],
      "source": [
        "def get_strategy(xla=0, fp16=0, no_cuda=0):\n",
        "  '''\n",
        "  Determines the strategy under which the network is trained.\n",
        "\n",
        "  From https://github.com/huggingface/transformers/blob/8eb7f26d5d9ce42eb88be6f0150b22a41d76a93d/src/transformers/training_args_tf.py\n",
        "\n",
        "  returns the strategy object\n",
        "\n",
        "  '''\n",
        "  print(\"TensorFlow: setting up strategy\")\n",
        "\n",
        "  if xla:\n",
        "    tf.config.optimizer.set_jit(True)\n",
        "\n",
        "  gpus = tf.config.list_physical_devices(\"GPU\")\n",
        "    # Set to float16 at first\n",
        "  if fp16:\n",
        "    policy = tf.keras.mixed_precision.experimental.Policy(\"mixed_float16\")\n",
        "    tf.keras.mixed_precision.experimental.set_policy(policy)\n",
        "\n",
        "  if no_cuda:\n",
        "    strategy = tf.distribute.OneDeviceStrategy(device=\"/cpu:0\")\n",
        "  else:\n",
        "    try:\n",
        "      tpu = tf.distribute.cluster_resolver.TPUClusterResolver()\n",
        "    except ValueError:\n",
        "      tpu = None\n",
        "\n",
        "    if tpu:\n",
        "    # Set to bfloat16 in case of TPU\n",
        "      if fp16:\n",
        "        policy = tf.keras.mixed_precision.experimental.Policy(\"mixed_bfloat16\")\n",
        "        tf.keras.mixed_precision.experimental.set_policy(policy)\n",
        "      tf.config.experimental_connect_to_cluster(tpu)\n",
        "      tf.tpu.experimental.initialize_tpu_system(tpu)\n",
        "\n",
        "      strategy = tf.distribute.experimental.TPUStrategy(tpu)\n",
        "\n",
        "    elif len(gpus) == 0:\n",
        "        strategy = tf.distribute.OneDeviceStrategy(device=\"/cpu:0\")\n",
        "    elif len(gpus) == 1:\n",
        "      strategy = tf.distribute.OneDeviceStrategy(device=\"/gpu:0\")\n",
        "    elif len(gpus) > 1:\n",
        "      # If you only want to use a specific subset of GPUs use `CUDA_VISIBLE_DEVICES=0`\n",
        "      strategy = tf.distribute.MirroredStrategy()\n",
        "    else:\n",
        "      raise ValueError(\"Cannot find the proper strategy! Please check your environment properties.\")\n",
        "\n",
        "  print(f\"Using strategy: {strategy}\")\n",
        "  return strategy"
      ]
    },
    {
      "cell_type": "markdown",
      "metadata": {
        "id": "qijP-cahHwBh"
      },
      "source": [
        "Let's first code the functions that implement all the equations we need."
      ]
    },
    {
      "cell_type": "markdown",
      "metadata": {
        "id": "DnsGzWzNiSMP"
      },
      "source": [
        "#### HSIC"
      ]
    },
    {
      "cell_type": "code",
      "execution_count": 3,
      "metadata": {
        "id": "V_SDqYMZDcG9"
      },
      "outputs": [],
      "source": [
        "def unbiased_HSIC(K, L):\n",
        "  '''Computes an unbiased estimator of HISC. This is equation (2) from the paper'''\n",
        "\n",
        "  #create the unit **vector** filled with ones\n",
        "  n = K.shape[0]\n",
        "  ones = np.ones(shape=(n))\n",
        "\n",
        "  #fill the diagonal entries with zeros\n",
        "  np.fill_diagonal(K, val=0) #this is now K_tilde\n",
        "  np.fill_diagonal(L, val=0) #this is now L_tilde\n",
        "\n",
        "  #first part in the square brackets\n",
        "  trace = np.trace(np.dot(K, L))\n",
        "\n",
        "  #middle part in the square brackets\n",
        "  nominator1 = np.dot(np.dot(ones.T, K), ones)\n",
        "  nominator2 = np.dot(np.dot(ones.T, L), ones)\n",
        "  denominator = (n-1)*(n-2)\n",
        "  middle = np.dot(nominator1, nominator2) / denominator\n",
        "\n",
        "\n",
        "  #third part in the square brackets\n",
        "  multiplier1 = 2/(n-2)\n",
        "  multiplier2 = np.dot(np.dot(ones.T, K), np.dot(L, ones))\n",
        "  last = multiplier1 * multiplier2\n",
        "\n",
        "  #complete equation\n",
        "  unbiased_hsic = 1/(n*(n-3)) * (trace + middle - last)\n",
        "\n",
        "  return unbiased_hsic\n"
      ]
    },
    {
      "cell_type": "markdown",
      "metadata": {
        "id": "Q8Vsn0mgiXo2"
      },
      "source": [
        "#### CKA"
      ]
    },
    {
      "cell_type": "code",
      "execution_count": 4,
      "metadata": {
        "id": "FkXE8TJ-GQVs"
      },
      "outputs": [],
      "source": [
        "def CKA(X, Y):\n",
        "  '''Computes the CKA of two matrices. This is equation (1) from the paper'''\n",
        "\n",
        "  nominator = unbiased_HSIC(np.dot(X, X.T), np.dot(Y, Y.T))\n",
        "  denominator1 = unbiased_HSIC(np.dot(X, X.T), np.dot(X, X.T))\n",
        "  denominator2 = unbiased_HSIC(np.dot(Y, Y.T), np.dot(Y, Y.T))\n",
        "\n",
        "  cka = nominator/np.sqrt(denominator1*denominator2)\n",
        "\n",
        "  return cka\n"
      ]
    },
    {
      "cell_type": "markdown",
      "metadata": {
        "id": "QHcj9k3m2-sQ"
      },
      "source": [
        "## Creating and Training the networks"
      ]
    },
    {
      "cell_type": "markdown",
      "metadata": {
        "id": "i6mrMqOhiaMg"
      },
      "source": [
        "#### Imports"
      ]
    },
    {
      "cell_type": "code",
      "execution_count": 5,
      "metadata": {
        "id": "_X5mMDM15iPj"
      },
      "outputs": [],
      "source": [
        "import tensorflow as tf\n",
        "import matplotlib.pyplot as plt\n",
        "import numpy as np"
      ]
    },
    {
      "cell_type": "code",
      "execution_count": 6,
      "metadata": {
        "colab": {
          "base_uri": "https://localhost:8080/"
        },
        "id": "XWcf1gDNAVi_",
        "outputId": "af7fc2f0-c85a-4807-a460-f0fe7c645449"
      },
      "outputs": [
        {
          "name": "stdout",
          "output_type": "stream",
          "text": [
            "Downloading data from https://www.cs.toronto.edu/~kriz/cifar-10-python.tar.gz\n",
            "170498071/170498071 [==============================] - 29s 0us/step\n"
          ]
        }
      ],
      "source": [
        "cifar10 = tf.keras.datasets.cifar10\n",
        "\n",
        "(x_train, y_train), (x_test, y_test) = cifar10.load_data()\n",
        "x_train, x_test = x_train / 255.0, x_test / 255.0 #scale the data"
      ]
    },
    {
      "cell_type": "markdown",
      "metadata": {
        "id": "LhvfgYJYRg7K"
      },
      "source": [
        "#### Setting up training strategy"
      ]
    },
    {
      "cell_type": "code",
      "execution_count": 7,
      "metadata": {
        "colab": {
          "base_uri": "https://localhost:8080/"
        },
        "id": "I9IvRx5WAWjP",
        "outputId": "1c0265b9-b554-404c-f4f7-2cfa1614b34d"
      },
      "outputs": [
        {
          "name": "stdout",
          "output_type": "stream",
          "text": [
            "TensorFlow: setting up strategy\n",
            "Using strategy: <tensorflow.python.distribute.one_device_strategy.OneDeviceStrategy object at 0x000002555CC7A3B0>\n"
          ]
        }
      ],
      "source": [
        "strategy = get_strategy()"
      ]
    },
    {
      "cell_type": "markdown",
      "metadata": {
        "id": "S9ff81RwRjy7"
      },
      "source": [
        "#### Helper functions to create ResNets"
      ]
    },
    {
      "cell_type": "code",
      "execution_count": 8,
      "metadata": {
        "id": "16ERBC6cNrRV"
      },
      "outputs": [],
      "source": [
        "def create_resnet50():\n",
        "\n",
        "  resnet_base = tf.keras.applications.ResNet50(\n",
        "    input_shape=(32,32,3),\n",
        "    weights='imagenet',\n",
        "    pooling='avg',\n",
        "    include_top=False)\n",
        "\n",
        "  output = tf.keras.layers.Dense(10, activation=\"softmax\")(resnet_base.output)\n",
        "\n",
        "  model = tf.keras.Model(inputs=[resnet_base.input], outputs=[output])\n",
        "\n",
        "  return model"
      ]
    },
    {
      "cell_type": "code",
      "execution_count": 9,
      "metadata": {
        "id": "RGkIuquaQk68"
      },
      "outputs": [],
      "source": [
        "def create_resnet101():\n",
        "\n",
        "  resnet_base = tf.keras.applications.ResNet101(\n",
        "    input_shape=(32,32,3),\n",
        "    weights='imagenet',\n",
        "    pooling='avg',\n",
        "    include_top=False)\n",
        "\n",
        "  output = tf.keras.layers.Dense(10, activation=\"softmax\")(resnet_base.output)\n",
        "\n",
        "  model = tf.keras.Model(inputs=[resnet_base.input], outputs=[output])\n",
        "\n",
        "  return model"
      ]
    },
    {
      "cell_type": "code",
      "execution_count": 10,
      "metadata": {
        "id": "OktmNiIvQpg9"
      },
      "outputs": [],
      "source": [
        "def create_resnet152():\n",
        "\n",
        "  resnet_base = tf.keras.applications.ResNet152(\n",
        "    input_shape=(32,32,3),\n",
        "    weights='imagenet',\n",
        "    pooling='avg',\n",
        "    include_top=False)\n",
        "\n",
        "  output = tf.keras.layers.Dense(10, activation=\"softmax\")(resnet_base.output)\n",
        "\n",
        "  model = tf.keras.Model(inputs=[resnet_base.input], outputs=[output])\n",
        "\n",
        "  return model"
      ]
    },
    {
      "cell_type": "markdown",
      "metadata": {
        "id": "-H90AKFvRneS"
      },
      "source": [
        "### Train ResNets"
      ]
    },
    {
      "cell_type": "markdown",
      "metadata": {
        "id": "2xWJeh2xQ9S3"
      },
      "source": [
        "Train a ResNet50"
      ]
    },
    {
      "cell_type": "code",
      "execution_count": 11,
      "metadata": {
        "colab": {
          "base_uri": "https://localhost:8080/"
        },
        "id": "aHW5qRUlP_Km",
        "outputId": "191ff443-78c6-440b-8c85-b2132f80d33d"
      },
      "outputs": [
        {
          "name": "stdout",
          "output_type": "stream",
          "text": [
            "Downloading data from https://storage.googleapis.com/tensorflow/keras-applications/resnet/resnet50_weights_tf_dim_ordering_tf_kernels_notop.h5\n",
            "94765736/94765736 [==============================] - 10s 0us/step\n"
          ]
        }
      ],
      "source": [
        "with strategy.scope():\n",
        "  resnet50 = create_resnet50()\n",
        "\n",
        "  resnet50.compile(optimizer='adam',\n",
        "              loss=tf.keras.losses.SparseCategoricalCrossentropy(),\n",
        "              metrics=['accuracy'])"
      ]
    },
    {
      "cell_type": "code",
      "execution_count": 12,
      "metadata": {
        "id": "lqj6ZuvIQF0I"
      },
      "outputs": [
        {
          "name": "stdout",
          "output_type": "stream",
          "text": [
            " 43/196 [=====>........................] - ETA: 28:04 - loss: 2.1051 - accuracy: 0.3951"
          ]
        }
      ],
      "source": [
        "resnet50.fit(x_train, y_train, epochs=1, batch_size=256)"
      ]
    },
    {
      "cell_type": "markdown",
      "metadata": {
        "id": "Pbla4Q-tQ_gu"
      },
      "source": [
        "Train a Resnet101"
      ]
    },
    {
      "cell_type": "code",
      "execution_count": null,
      "metadata": {
        "colab": {
          "base_uri": "https://localhost:8080/"
        },
        "id": "W7BhjwftQ1Qc",
        "outputId": "f84af321-93b8-4648-9d65-df0032c2932c"
      },
      "outputs": [
        {
          "name": "stdout",
          "output_type": "stream",
          "text": [
            "Downloading data from https://storage.googleapis.com/tensorflow/keras-applications/resnet/resnet101_weights_tf_dim_ordering_tf_kernels_notop.h5\n",
            "171450368/171446536 [==============================] - 1s 0us/step\n"
          ]
        }
      ],
      "source": [
        "with strategy.scope():\n",
        "  resnet101 = create_resnet101()\n",
        "  resnet101.compile(optimizer='adam',\n",
        "              loss=tf.keras.losses.SparseCategoricalCrossentropy(),\n",
        "              metrics=['accuracy'])\n",
        "\n"
      ]
    },
    {
      "cell_type": "code",
      "execution_count": null,
      "metadata": {
        "colab": {
          "base_uri": "https://localhost:8080/"
        },
        "id": "b3Cwf9p7RI34",
        "outputId": "0b5a401f-8413-455a-8a9d-b024e3deeb6b"
      },
      "outputs": [
        {
          "name": "stdout",
          "output_type": "stream",
          "text": [
            "Epoch 1/10\n",
            "196/196 [==============================] - 131s 251ms/step - loss: 1.6982 - accuracy: 0.4614\n",
            "Epoch 2/10\n",
            "196/196 [==============================] - 13s 69ms/step - loss: 1.2706 - accuracy: 0.5783\n",
            "Epoch 3/10\n",
            "196/196 [==============================] - 13s 69ms/step - loss: 1.3349 - accuracy: 0.5357\n",
            "Epoch 4/10\n",
            "196/196 [==============================] - 13s 69ms/step - loss: 1.1582 - accuracy: 0.6045\n",
            "Epoch 5/10\n",
            "196/196 [==============================] - 14s 69ms/step - loss: 0.9840 - accuracy: 0.6671\n",
            "Epoch 6/10\n",
            "196/196 [==============================] - 14s 71ms/step - loss: 1.1435 - accuracy: 0.6138\n",
            "Epoch 7/10\n",
            "196/196 [==============================] - 14s 70ms/step - loss: 1.0196 - accuracy: 0.6527\n",
            "Epoch 8/10\n",
            "196/196 [==============================] - 14s 69ms/step - loss: 0.9989 - accuracy: 0.6670\n",
            "Epoch 9/10\n",
            "196/196 [==============================] - 14s 69ms/step - loss: 0.9116 - accuracy: 0.6934\n",
            "Epoch 10/10\n",
            "196/196 [==============================] - 14s 70ms/step - loss: 0.7252 - accuracy: 0.7547\n"
          ]
        },
        {
          "data": {
            "text/plain": [
              "<tensorflow.python.keras.callbacks.History at 0x7f74791269d0>"
            ]
          },
          "execution_count": 14,
          "metadata": {
            "tags": []
          },
          "output_type": "execute_result"
        }
      ],
      "source": [
        "resnet101.fit(x_train, y_train, epochs=10, batch_size=256)"
      ]
    },
    {
      "cell_type": "markdown",
      "metadata": {
        "id": "5IRbyB2aRLXz"
      },
      "source": [
        "Train a ResNet512\n"
      ]
    },
    {
      "cell_type": "code",
      "execution_count": null,
      "metadata": {
        "colab": {
          "base_uri": "https://localhost:8080/"
        },
        "id": "xEOCOF7uROca",
        "outputId": "8f54c154-1d59-426d-f2d6-409fdded5043"
      },
      "outputs": [
        {
          "name": "stdout",
          "output_type": "stream",
          "text": [
            "Downloading data from https://storage.googleapis.com/tensorflow/keras-applications/resnet/resnet152_weights_tf_dim_ordering_tf_kernels_notop.h5\n",
            "234700800/234698864 [==============================] - 3s 0us/step\n"
          ]
        }
      ],
      "source": [
        "with strategy.scope():\n",
        "  resnet152 = create_resnet152()\n",
        "  resnet152.compile(optimizer='adam',\n",
        "              loss=tf.keras.losses.SparseCategoricalCrossentropy(),\n",
        "              metrics=['accuracy'])"
      ]
    },
    {
      "cell_type": "code",
      "execution_count": null,
      "metadata": {
        "colab": {
          "base_uri": "https://localhost:8080/"
        },
        "id": "XZVhC3faRSAf",
        "outputId": "c9373696-dc79-4cc8-b280-04e53e7c7fed"
      },
      "outputs": [
        {
          "name": "stdout",
          "output_type": "stream",
          "text": [
            "Epoch 1/10\n",
            "196/196 [==============================] - 194s 372ms/step - loss: 1.8627 - accuracy: 0.4147\n",
            "Epoch 2/10\n",
            "196/196 [==============================] - 18s 94ms/step - loss: 1.0547 - accuracy: 0.6413\n",
            "Epoch 3/10\n",
            "196/196 [==============================] - 19s 95ms/step - loss: 0.8756 - accuracy: 0.7076\n",
            "Epoch 4/10\n",
            "196/196 [==============================] - 19s 95ms/step - loss: 1.4581 - accuracy: 0.5241\n",
            "Epoch 5/10\n",
            "196/196 [==============================] - 19s 95ms/step - loss: 1.0416 - accuracy: 0.6434\n",
            "Epoch 6/10\n",
            "196/196 [==============================] - 19s 95ms/step - loss: 0.9033 - accuracy: 0.6945\n",
            "Epoch 7/10\n",
            "196/196 [==============================] - 19s 95ms/step - loss: 1.2494 - accuracy: 0.5879\n",
            "Epoch 8/10\n",
            "196/196 [==============================] - 19s 95ms/step - loss: 1.2604 - accuracy: 0.5762\n",
            "Epoch 9/10\n",
            "196/196 [==============================] - 19s 95ms/step - loss: 1.5639 - accuracy: 0.4546\n",
            "Epoch 10/10\n",
            "196/196 [==============================] - 19s 95ms/step - loss: 1.3513 - accuracy: 0.5350\n"
          ]
        },
        {
          "data": {
            "text/plain": [
              "<tensorflow.python.keras.callbacks.History at 0x7f7471fd3b50>"
            ]
          },
          "execution_count": 18,
          "metadata": {
            "tags": []
          },
          "output_type": "execute_result"
        }
      ],
      "source": [
        "resnet152.fit(x_train, y_train, epochs=10, batch_size=256)"
      ]
    },
    {
      "cell_type": "markdown",
      "metadata": {
        "id": "1yTN4l-9XBBZ"
      },
      "source": [
        "## Activation comparison"
      ]
    },
    {
      "cell_type": "markdown",
      "metadata": {
        "id": "19E5SQloR3UH"
      },
      "source": [
        "Function that calculates the CKA score between two matrices. 'Unrolls' the matrices beforehand"
      ]
    },
    {
      "cell_type": "code",
      "execution_count": null,
      "metadata": {
        "id": "cYIHhWBkdXHz"
      },
      "outputs": [],
      "source": [
        "def calculate_CKA_for_two_matrices(activationA, activationB):\n",
        "  '''Takes two activations A and B and computes the linear CKA to measure their similarity'''\n",
        "\n",
        "  #unfold the activations, that is make a (n, h*w*c) representation\n",
        "  shape = activationA.shape\n",
        "  activationA = np.reshape(activationA, newshape=(shape[0], np.prod(shape[1:])))\n",
        "\n",
        "  shape = activationB.shape\n",
        "  activationB = np.reshape(activationB, newshape=(shape[0], np.prod(shape[1:])))\n",
        "\n",
        "  #calculate the CKA score\n",
        "  cka_score = CKA(activationA, activationB)\n",
        "\n",
        "  del activationA\n",
        "  del activationB\n",
        "\n",
        "  return cka_score\n",
        "def get_all_layer_outputs_fn(model):\n",
        "  '''Builds and returns function that returns the output of every (intermediate) layer'''\n",
        "\n",
        "  return tf.keras.backend.function([model.layers[0].input],\n",
        "                                  [l.output for l in model.layers[1:]])\n",
        "\n",
        "def compare_activations(modelA, modelB, data_batch):\n",
        "  '''\n",
        "  Calculate a pairwise comparison of hidden representations and return a matrix\n",
        "  '''\n",
        "\n",
        "  #get function to get the output of every intermediate layer, for modelA and modelB\n",
        "  intermediate_outputs_A = get_all_layer_outputs_fn(modelA)(data_batch)\n",
        "  intermediate_outputs_B = get_all_layer_outputs_fn(modelB)(data_batch)\n",
        "\n",
        "  #create a placeholder array\n",
        "  result_array = np.zeros(shape=(len(intermediate_outputs_A), len(intermediate_outputs_B)))\n",
        "\n",
        "\n",
        "  i = 0\n",
        "  for outputA in tqdm.tqdm_notebook(intermediate_outputs_A):\n",
        "    j = 0\n",
        "    for outputB in tqdm.tqdm_notebook(intermediate_outputs_B):\n",
        "      cka_score = calculate_CKA_for_two_matrices(outputA, outputB)\n",
        "      result_array[i, j] = cka_score\n",
        "      j+=1\n",
        "    i+= 1\n",
        "\n",
        "  return result_array\n",
        "def compare_activations2(intermediate_outputs_A, intermediate_outputs_B):\n",
        "  #create a placeholder array\n",
        "  result_array = np.zeros(shape=(len(intermediate_outputs_A), len(intermediate_outputs_B)))\n",
        "\n",
        "\n",
        "  i = 0\n",
        "  for outputA in tqdm.tqdm_notebook(intermediate_outputs_A):\n",
        "    j = 0\n",
        "    for outputB in tqdm.tqdm_notebook(intermediate_outputs_B):\n",
        "      cka_score = calculate_CKA_for_two_matrices(outputA, outputB)\n",
        "      result_array[i, j] = cka_score\n",
        "      j+=1\n",
        "    i+= 1\n",
        "\n",
        "  return result_array\n"
      ]
    },
    {
      "cell_type": "code",
      "execution_count": 19,
      "metadata": {
        "id": "sS51fHSc0hVa"
      },
      "outputs": [
        {
          "ename": "NameError",
          "evalue": "name 'resnet50' is not defined",
          "output_type": "error",
          "traceback": [
            "\u001b[1;31m---------------------------------------------------------------------------\u001b[0m",
            "\u001b[1;31mNameError\u001b[0m                                 Traceback (most recent call last)",
            "Cell \u001b[1;32mIn[19], line 1\u001b[0m\n\u001b[1;32m----> 1\u001b[0m sim \u001b[38;5;241m=\u001b[39m compare_activations(\u001b[43mresnet50\u001b[49m, resnet101, x_train[:\u001b[38;5;241m256\u001b[39m])\n",
            "\u001b[1;31mNameError\u001b[0m: name 'resnet50' is not defined"
          ]
        }
      ],
      "source": [
        "sim = compare_activations(resnet50, resnet101, x_train[:256])"
      ]
    },
    {
      "cell_type": "markdown",
      "metadata": {
        "id": "7gyyIfb77iJW"
      },
      "source": [
        "# Further code"
      ]
    },
    {
      "cell_type": "code",
      "execution_count": 10,
      "metadata": {},
      "outputs": [],
      "source": [
        "# define the model architecture here\n",
        "'''\n",
        "The script contains the network architecture\n",
        "'''\n",
        "import torch \n",
        "import torch.nn as nn\n",
        "import torch.optim as optim\n",
        "import torch.nn.functional as F\n",
        "\n",
        "class model(nn.Module):\n",
        "    def __init__(self) -> None:\n",
        "        super().__init__()\n",
        "    \n",
        "        self.conv1 = nn.Conv2d(3, 6, 5)\n",
        "        self.pool = nn.MaxPool2d(2, 2)\n",
        "        self.conv2 = nn.Conv2d(6, 16, 5)\n",
        "\n",
        "        self.fc1 = nn.Linear(16*5*5, 120)\n",
        "        self.fc2 = nn.Linear(120, 84)\n",
        "        self.fc3 = nn.Linear(84, 10)\n",
        "    \n",
        "    def forward(self, x):\n",
        "        x = self.pool(F.relu(self.conv1(x)))\n",
        "        x = self.pool(F.relu(self.conv2(x)))\n",
        "        x = torch.flatten(x, 1)\n",
        "        x = F.relu(self.fc1(x))\n",
        "        x = F.relu(self.fc2(x))\n",
        "        x = self.fc3(x)\n",
        "\n",
        "        return x\n"
      ]
    },
    {
      "cell_type": "code",
      "execution_count": 7,
      "metadata": {
        "id": "hXdfT-jIVCoo"
      },
      "outputs": [],
      "source": [
        "import pickle"
      ]
    },
    {
      "cell_type": "code",
      "execution_count": 12,
      "metadata": {
        "id": "2yBun94wTDs-"
      },
      "outputs": [
        {
          "data": {
            "text/plain": [
              "<All keys matched successfully>"
            ]
          },
          "execution_count": 12,
          "metadata": {},
          "output_type": "execute_result"
        }
      ],
      "source": [
        "model1 = model()\n",
        "model1.load_state_dict(torch.load('model1.pt'))\n",
        "# with open(\"model1.pt\", \"rb\") as rp:\n",
        "#   resnet50 = pickle.load(rp)"
      ]
    },
    {
      "cell_type": "code",
      "execution_count": 14,
      "metadata": {
        "id": "adHTiIy4VFYJ"
      },
      "outputs": [
        {
          "data": {
            "text/plain": [
              "<All keys matched successfully>"
            ]
          },
          "execution_count": 14,
          "metadata": {},
          "output_type": "execute_result"
        }
      ],
      "source": [
        "model2 = model()\n",
        "model2.load_state_dict(torch.load('model2.pt'))\n",
        "# with open(\"/content/drive/MyDrive/activ_comparison/resnet101\", \"rb\") as rp:\n",
        "#   resnet101 = pickle.load(rp)"
      ]
    },
    {
      "cell_type": "code",
      "execution_count": null,
      "metadata": {
        "id": "rcdCGZ3tVH00"
      },
      "outputs": [],
      "source": [
        "# with open(\"/content/drive/MyDrive/activ_comparison/resnet152\", \"rb\") as rp:\n",
        "#   resnet152 = pickle.load(rp)"
      ]
    },
    {
      "cell_type": "code",
      "execution_count": null,
      "metadata": {
        "id": "9ToxGL0JnTzX"
      },
      "outputs": [],
      "source": [
        "import numpy as np\n",
        "sim = compare_activations2(model1, model2)\n",
        "plt.figure(figsize=(30, 15), dpi=200)\n",
        "axes = plt.imshow(sim, cmap='magma', vmin=0.0,vmax=1.0)\n",
        "axes.axes.invert_yaxis()\n",
        "plt.savefig(\"/content/drive/MyDrive/activ_comparison/r50_r101.png\", dpi=400)"
      ]
    },
    {
      "cell_type": "code",
      "execution_count": null,
      "metadata": {
        "id": "yjybnn0MVaE1"
      },
      "outputs": [],
      "source": [
        "sim = compare_activations2(resnet50, resnet152)\n",
        "plt.figure(figsize=(30, 15), dpi=200)\n",
        "axes = plt.imshow(sim, cmap='magma', vmin=0.0,vmax=1.0)\n",
        "axes.axes.invert_yaxis()\n",
        "plt.savefig(\"/content/drive/MyDrive/activ_comparison/r50_r152.png\", dpi=400)"
      ]
    },
    {
      "cell_type": "code",
      "execution_count": null,
      "metadata": {
        "id": "MSyNNsi9VhKg"
      },
      "outputs": [],
      "source": [
        "sim = compare_activations2(resnet101, resnet152)\n",
        "plt.figure(figsize=(30, 15), dpi=200)\n",
        "axes = plt.imshow(sim, cmap='magma', vmin=0.0,vmax=1.0)\n",
        "axes.axes.invert_yaxis()\n",
        "plt.savefig(\"/content/drive/MyDrive/activ_comparison/r101_r152.png\", dpi=400)"
      ]
    },
    {
      "cell_type": "code",
      "execution_count": null,
      "metadata": {
        "id": "rt-MqA5oVrmL"
      },
      "outputs": [],
      "source": [
        "sim = compare_activations2(resnet50, resnet50)\n",
        "plt.figure(figsize=(30, 15), dpi=200)\n",
        "axes = plt.imshow(sim, cmap='magma', vmin=0.0,vmax=1.0)\n",
        "axes.axes.invert_yaxis()\n",
        "plt.savefig(\"/content/drive/MyDrive/activ_comparison/r50_r50.png\", dpi=400)"
      ]
    },
    {
      "cell_type": "code",
      "execution_count": null,
      "metadata": {
        "id": "lcD-85i6Vu5w"
      },
      "outputs": [],
      "source": [
        "sim = compare_activations2(resnet101, resnet101)\n",
        "plt.figure(figsize=(30, 15), dpi=200)\n",
        "axes = plt.imshow(sim, cmap='magma', vmin=0.0,vmax=1.0)\n",
        "axes.axes.invert_yaxis()\n",
        "plt.savefig(\"/content/drive/MyDrive/activ_comparison/r101_r101.png\", dpi=400)"
      ]
    },
    {
      "cell_type": "code",
      "execution_count": null,
      "metadata": {
        "id": "xV-gJG5GVxUJ"
      },
      "outputs": [],
      "source": [
        "sim = compare_activations2(resnet152, resnet152)\n",
        "plt.figure(figsize=(30, 15), dpi=200)\n",
        "axes = plt.imshow(sim, cmap='magma', vmin=0.0,vmax=1.0)\n",
        "axes.axes.invert_yaxis()\n",
        "plt.savefig(\"/content/drive/MyDrive/activ_comparison/r152_r152.png\", dpi=400)"
      ]
    },
    {
      "cell_type": "markdown",
      "metadata": {},
      "source": [
        "Pytorch code"
      ]
    },
    {
      "cell_type": "code",
      "execution_count": 23,
      "metadata": {
        "id": "zqSs8hcjV09p"
      },
      "outputs": [],
      "source": [
        "import torch\n",
        "import torch.nn as nn\n",
        "import numpy as np\n",
        "from tqdm import tqdm\n",
        "import matplotlib.pyplot as plt\n",
        "\n",
        "def calculate_CKA_for_two_matrices(activationA, activationB):\n",
        "    '''Takes two activations A and B and computes the linear CKA to measure their similarity'''\n",
        "    activationA = activationA.view(activationA.size(0), -1)\n",
        "    activationB = activationB.view(activationB.size(0), -1)\n",
        "    \n",
        "    # Calculate the Gram matrices\n",
        "    gram_A = torch.matmul(activationA, activationA.t())\n",
        "    gram_B = torch.matmul(activationB, activationB.t())\n",
        "    \n",
        "    # Normalize Gram matrices\n",
        "    gram_A = gram_A / torch.norm(gram_A, 'fro')\n",
        "    gram_B = gram_B / torch.norm(gram_B, 'fro')\n",
        "    \n",
        "    # Compute CKA\n",
        "    cka_score = torch.trace(torch.matmul(gram_A, gram_B)) / (torch.norm(gram_A, 'fro') * torch.norm(gram_B, 'fro'))\n",
        "    \n",
        "    return cka_score.item()\n",
        "\n",
        "def get_all_layer_outputs_fn(model):\n",
        "    '''Builds and returns function that returns the output of every (intermediate) layer'''\n",
        "    model.eval()\n",
        "    \n",
        "    def hook(module, input, output):\n",
        "        hook_output.append(output)\n",
        "    \n",
        "    hook_output = []\n",
        "    hooks = []\n",
        "    for module in model.children():\n",
        "        hooks.append(module.register_forward_hook(hook))\n",
        "    \n",
        "    def get_outputs(input_tensor):\n",
        "        hook_output.clear()\n",
        "        _ = model(input_tensor)\n",
        "        return hook_output\n",
        "    \n",
        "    return get_outputs\n",
        "\n",
        "def compare_activations(modelA, modelB, data_batch):\n",
        "    '''\n",
        "    Calculate a pairwise comparison of hidden representations and return a matrix\n",
        "    '''\n",
        "    modelA.eval()\n",
        "    modelB.eval()\n",
        "\n",
        "    # Get function to get the output of every intermediate layer, for modelA and modelB\n",
        "    intermediate_outputs_A_fn = get_all_layer_outputs_fn(modelA)\n",
        "    intermediate_outputs_B_fn = get_all_layer_outputs_fn(modelB)\n",
        "\n",
        "    # Get intermediate outputs for data_batch\n",
        "    intermediate_outputs_A = intermediate_outputs_A_fn(data_batch)\n",
        "    intermediate_outputs_B = intermediate_outputs_B_fn(data_batch)\n",
        "\n",
        "    # Create a placeholder array\n",
        "    result_array = np.zeros(shape=(len(intermediate_outputs_A), len(intermediate_outputs_B)))\n",
        "\n",
        "    for i, outputA in tqdm(enumerate(intermediate_outputs_A)):\n",
        "        for j, outputB in enumerate(intermediate_outputs_B):\n",
        "            cka_score = calculate_CKA_for_two_matrices(outputA, outputB)\n",
        "            result_array[i, j] = cka_score\n",
        "\n",
        "    return result_array"
      ]
    },
    {
      "cell_type": "code",
      "execution_count": 24,
      "metadata": {},
      "outputs": [
        {
          "name": "stdout",
          "output_type": "stream",
          "text": [
            "Files already downloaded and verified\n"
          ]
        }
      ],
      "source": [
        "from torchvision import datasets, transforms\n",
        "transform = transforms.Compose([\n",
        "    transforms.ToTensor(),\n",
        "    transforms.Normalize(mean=[0.5,0.5,0.5], std=[0.5,0.5,0.5])\n",
        "])\n",
        "\n",
        "# Load datasets for training and validation\n",
        "# train_dataset = datasets.CIFAR10(root='./data', train=True, download=True, transform=transform)\n",
        "# train_loader = torch.utils.data.DataLoader(train_dataset, batch_size=64, shuffle=True)\n",
        "val_dataset = datasets.CIFAR10(root='./data', train=False, download=True, transform=transform)\n",
        "val_loader = torch.utils.data.DataLoader(val_dataset, batch_size=64, shuffle=False)"
      ]
    },
    {
      "cell_type": "code",
      "execution_count": 26,
      "metadata": {},
      "outputs": [
        {
          "ename": "TypeError",
          "evalue": "conv2d() received an invalid combination of arguments - got (list, Parameter, Parameter, tuple, tuple, tuple, int), but expected one of:\n * (Tensor input, Tensor weight, Tensor bias, tuple of ints stride, tuple of ints padding, tuple of ints dilation, int groups)\n      didn't match because some of the arguments have invalid types: (!list of [Tensor, Tensor]!, !Parameter!, !Parameter!, !tuple of (int, int)!, !tuple of (int, int)!, !tuple of (int, int)!, int)\n * (Tensor input, Tensor weight, Tensor bias, tuple of ints stride, str padding, tuple of ints dilation, int groups)\n      didn't match because some of the arguments have invalid types: (!list of [Tensor, Tensor]!, !Parameter!, !Parameter!, !tuple of (int, int)!, !tuple of (int, int)!, !tuple of (int, int)!, int)\n",
          "output_type": "error",
          "traceback": [
            "\u001b[1;31m---------------------------------------------------------------------------\u001b[0m",
            "\u001b[1;31mTypeError\u001b[0m                                 Traceback (most recent call last)",
            "Cell \u001b[1;32mIn[26], line 3\u001b[0m\n\u001b[0;32m      1\u001b[0m \u001b[38;5;66;03m#  model1 and model2 are PyTorch models\u001b[39;00m\n\u001b[0;32m      2\u001b[0m \u001b[38;5;66;03m# data_batch is a PyTorch tensor\u001b[39;00m\n\u001b[1;32m----> 3\u001b[0m sim \u001b[38;5;241m=\u001b[39m \u001b[43mcompare_activations\u001b[49m\u001b[43m(\u001b[49m\u001b[43mmodel1\u001b[49m\u001b[43m,\u001b[49m\u001b[43m \u001b[49m\u001b[43mmodel2\u001b[49m\u001b[43m,\u001b[49m\u001b[43m \u001b[49m\u001b[38;5;28;43mnext\u001b[39;49m\u001b[43m(\u001b[49m\u001b[38;5;28;43miter\u001b[39;49m\u001b[43m(\u001b[49m\u001b[43mval_loader\u001b[49m\u001b[43m)\u001b[49m\u001b[43m)\u001b[49m\u001b[43m)\u001b[49m\n\u001b[0;32m      4\u001b[0m plt\u001b[38;5;241m.\u001b[39mfigure(figsize\u001b[38;5;241m=\u001b[39m(\u001b[38;5;241m30\u001b[39m, \u001b[38;5;241m15\u001b[39m), dpi\u001b[38;5;241m=\u001b[39m\u001b[38;5;241m200\u001b[39m)\n\u001b[0;32m      5\u001b[0m axes \u001b[38;5;241m=\u001b[39m plt\u001b[38;5;241m.\u001b[39mimshow(sim, cmap\u001b[38;5;241m=\u001b[39m\u001b[38;5;124m'\u001b[39m\u001b[38;5;124mmagma\u001b[39m\u001b[38;5;124m'\u001b[39m, vmin\u001b[38;5;241m=\u001b[39m\u001b[38;5;241m0.0\u001b[39m, vmax\u001b[38;5;241m=\u001b[39m\u001b[38;5;241m1.0\u001b[39m)\n",
            "Cell \u001b[1;32mIn[23], line 56\u001b[0m, in \u001b[0;36mcompare_activations\u001b[1;34m(modelA, modelB, data_batch)\u001b[0m\n\u001b[0;32m     53\u001b[0m intermediate_outputs_B_fn \u001b[38;5;241m=\u001b[39m get_all_layer_outputs_fn(modelB)\n\u001b[0;32m     55\u001b[0m \u001b[38;5;66;03m# Get intermediate outputs for data_batch\u001b[39;00m\n\u001b[1;32m---> 56\u001b[0m intermediate_outputs_A \u001b[38;5;241m=\u001b[39m \u001b[43mintermediate_outputs_A_fn\u001b[49m\u001b[43m(\u001b[49m\u001b[43mdata_batch\u001b[49m\u001b[43m)\u001b[49m\n\u001b[0;32m     57\u001b[0m intermediate_outputs_B \u001b[38;5;241m=\u001b[39m intermediate_outputs_B_fn(data_batch)\n\u001b[0;32m     59\u001b[0m \u001b[38;5;66;03m# Create a placeholder array\u001b[39;00m\n",
            "Cell \u001b[1;32mIn[23], line 39\u001b[0m, in \u001b[0;36mget_all_layer_outputs_fn.<locals>.get_outputs\u001b[1;34m(input_tensor)\u001b[0m\n\u001b[0;32m     37\u001b[0m \u001b[38;5;28;01mdef\u001b[39;00m \u001b[38;5;21mget_outputs\u001b[39m(input_tensor):\n\u001b[0;32m     38\u001b[0m     hook_output\u001b[38;5;241m.\u001b[39mclear()\n\u001b[1;32m---> 39\u001b[0m     _ \u001b[38;5;241m=\u001b[39m \u001b[43mmodel\u001b[49m\u001b[43m(\u001b[49m\u001b[43minput_tensor\u001b[49m\u001b[43m)\u001b[49m\n\u001b[0;32m     40\u001b[0m     \u001b[38;5;28;01mreturn\u001b[39;00m hook_output\n",
            "File \u001b[1;32mc:\\Users\\91932\\AppData\\Local\\Programs\\Python\\Python310\\lib\\site-packages\\torch\\nn\\modules\\module.py:1518\u001b[0m, in \u001b[0;36mModule._wrapped_call_impl\u001b[1;34m(self, *args, **kwargs)\u001b[0m\n\u001b[0;32m   1516\u001b[0m     \u001b[38;5;28;01mreturn\u001b[39;00m \u001b[38;5;28mself\u001b[39m\u001b[38;5;241m.\u001b[39m_compiled_call_impl(\u001b[38;5;241m*\u001b[39margs, \u001b[38;5;241m*\u001b[39m\u001b[38;5;241m*\u001b[39mkwargs)  \u001b[38;5;66;03m# type: ignore[misc]\u001b[39;00m\n\u001b[0;32m   1517\u001b[0m \u001b[38;5;28;01melse\u001b[39;00m:\n\u001b[1;32m-> 1518\u001b[0m     \u001b[38;5;28;01mreturn\u001b[39;00m \u001b[38;5;28mself\u001b[39m\u001b[38;5;241m.\u001b[39m_call_impl(\u001b[38;5;241m*\u001b[39margs, \u001b[38;5;241m*\u001b[39m\u001b[38;5;241m*\u001b[39mkwargs)\n",
            "File \u001b[1;32mc:\\Users\\91932\\AppData\\Local\\Programs\\Python\\Python310\\lib\\site-packages\\torch\\nn\\modules\\module.py:1527\u001b[0m, in \u001b[0;36mModule._call_impl\u001b[1;34m(self, *args, **kwargs)\u001b[0m\n\u001b[0;32m   1522\u001b[0m \u001b[38;5;66;03m# If we don't have any hooks, we want to skip the rest of the logic in\u001b[39;00m\n\u001b[0;32m   1523\u001b[0m \u001b[38;5;66;03m# this function, and just call forward.\u001b[39;00m\n\u001b[0;32m   1524\u001b[0m \u001b[38;5;28;01mif\u001b[39;00m \u001b[38;5;129;01mnot\u001b[39;00m (\u001b[38;5;28mself\u001b[39m\u001b[38;5;241m.\u001b[39m_backward_hooks \u001b[38;5;129;01mor\u001b[39;00m \u001b[38;5;28mself\u001b[39m\u001b[38;5;241m.\u001b[39m_backward_pre_hooks \u001b[38;5;129;01mor\u001b[39;00m \u001b[38;5;28mself\u001b[39m\u001b[38;5;241m.\u001b[39m_forward_hooks \u001b[38;5;129;01mor\u001b[39;00m \u001b[38;5;28mself\u001b[39m\u001b[38;5;241m.\u001b[39m_forward_pre_hooks\n\u001b[0;32m   1525\u001b[0m         \u001b[38;5;129;01mor\u001b[39;00m _global_backward_pre_hooks \u001b[38;5;129;01mor\u001b[39;00m _global_backward_hooks\n\u001b[0;32m   1526\u001b[0m         \u001b[38;5;129;01mor\u001b[39;00m _global_forward_hooks \u001b[38;5;129;01mor\u001b[39;00m _global_forward_pre_hooks):\n\u001b[1;32m-> 1527\u001b[0m     \u001b[38;5;28;01mreturn\u001b[39;00m forward_call(\u001b[38;5;241m*\u001b[39margs, \u001b[38;5;241m*\u001b[39m\u001b[38;5;241m*\u001b[39mkwargs)\n\u001b[0;32m   1529\u001b[0m \u001b[38;5;28;01mtry\u001b[39;00m:\n\u001b[0;32m   1530\u001b[0m     result \u001b[38;5;241m=\u001b[39m \u001b[38;5;28;01mNone\u001b[39;00m\n",
            "Cell \u001b[1;32mIn[10], line 23\u001b[0m, in \u001b[0;36mmodel.forward\u001b[1;34m(self, x)\u001b[0m\n\u001b[0;32m     22\u001b[0m \u001b[38;5;28;01mdef\u001b[39;00m \u001b[38;5;21mforward\u001b[39m(\u001b[38;5;28mself\u001b[39m, x):\n\u001b[1;32m---> 23\u001b[0m     x \u001b[38;5;241m=\u001b[39m \u001b[38;5;28mself\u001b[39m\u001b[38;5;241m.\u001b[39mpool(F\u001b[38;5;241m.\u001b[39mrelu(\u001b[38;5;28;43mself\u001b[39;49m\u001b[38;5;241;43m.\u001b[39;49m\u001b[43mconv1\u001b[49m\u001b[43m(\u001b[49m\u001b[43mx\u001b[49m\u001b[43m)\u001b[49m))\n\u001b[0;32m     24\u001b[0m     x \u001b[38;5;241m=\u001b[39m \u001b[38;5;28mself\u001b[39m\u001b[38;5;241m.\u001b[39mpool(F\u001b[38;5;241m.\u001b[39mrelu(\u001b[38;5;28mself\u001b[39m\u001b[38;5;241m.\u001b[39mconv2(x)))\n\u001b[0;32m     25\u001b[0m     x \u001b[38;5;241m=\u001b[39m torch\u001b[38;5;241m.\u001b[39mflatten(x, \u001b[38;5;241m1\u001b[39m)\n",
            "File \u001b[1;32mc:\\Users\\91932\\AppData\\Local\\Programs\\Python\\Python310\\lib\\site-packages\\torch\\nn\\modules\\module.py:1518\u001b[0m, in \u001b[0;36mModule._wrapped_call_impl\u001b[1;34m(self, *args, **kwargs)\u001b[0m\n\u001b[0;32m   1516\u001b[0m     \u001b[38;5;28;01mreturn\u001b[39;00m \u001b[38;5;28mself\u001b[39m\u001b[38;5;241m.\u001b[39m_compiled_call_impl(\u001b[38;5;241m*\u001b[39margs, \u001b[38;5;241m*\u001b[39m\u001b[38;5;241m*\u001b[39mkwargs)  \u001b[38;5;66;03m# type: ignore[misc]\u001b[39;00m\n\u001b[0;32m   1517\u001b[0m \u001b[38;5;28;01melse\u001b[39;00m:\n\u001b[1;32m-> 1518\u001b[0m     \u001b[38;5;28;01mreturn\u001b[39;00m \u001b[38;5;28mself\u001b[39m\u001b[38;5;241m.\u001b[39m_call_impl(\u001b[38;5;241m*\u001b[39margs, \u001b[38;5;241m*\u001b[39m\u001b[38;5;241m*\u001b[39mkwargs)\n",
            "File \u001b[1;32mc:\\Users\\91932\\AppData\\Local\\Programs\\Python\\Python310\\lib\\site-packages\\torch\\nn\\modules\\module.py:1568\u001b[0m, in \u001b[0;36mModule._call_impl\u001b[1;34m(self, *args, **kwargs)\u001b[0m\n\u001b[0;32m   1565\u001b[0m     bw_hook \u001b[38;5;241m=\u001b[39m hooks\u001b[38;5;241m.\u001b[39mBackwardHook(\u001b[38;5;28mself\u001b[39m, full_backward_hooks, backward_pre_hooks)\n\u001b[0;32m   1566\u001b[0m     args \u001b[38;5;241m=\u001b[39m bw_hook\u001b[38;5;241m.\u001b[39msetup_input_hook(args)\n\u001b[1;32m-> 1568\u001b[0m result \u001b[38;5;241m=\u001b[39m forward_call(\u001b[38;5;241m*\u001b[39margs, \u001b[38;5;241m*\u001b[39m\u001b[38;5;241m*\u001b[39mkwargs)\n\u001b[0;32m   1569\u001b[0m \u001b[38;5;28;01mif\u001b[39;00m _global_forward_hooks \u001b[38;5;129;01mor\u001b[39;00m \u001b[38;5;28mself\u001b[39m\u001b[38;5;241m.\u001b[39m_forward_hooks:\n\u001b[0;32m   1570\u001b[0m     \u001b[38;5;28;01mfor\u001b[39;00m hook_id, hook \u001b[38;5;129;01min\u001b[39;00m (\n\u001b[0;32m   1571\u001b[0m         \u001b[38;5;241m*\u001b[39m_global_forward_hooks\u001b[38;5;241m.\u001b[39mitems(),\n\u001b[0;32m   1572\u001b[0m         \u001b[38;5;241m*\u001b[39m\u001b[38;5;28mself\u001b[39m\u001b[38;5;241m.\u001b[39m_forward_hooks\u001b[38;5;241m.\u001b[39mitems(),\n\u001b[0;32m   1573\u001b[0m     ):\n\u001b[0;32m   1574\u001b[0m         \u001b[38;5;66;03m# mark that always called hook is run\u001b[39;00m\n",
            "File \u001b[1;32mc:\\Users\\91932\\AppData\\Local\\Programs\\Python\\Python310\\lib\\site-packages\\torch\\nn\\modules\\conv.py:460\u001b[0m, in \u001b[0;36mConv2d.forward\u001b[1;34m(self, input)\u001b[0m\n\u001b[0;32m    459\u001b[0m \u001b[38;5;28;01mdef\u001b[39;00m \u001b[38;5;21mforward\u001b[39m(\u001b[38;5;28mself\u001b[39m, \u001b[38;5;28minput\u001b[39m: Tensor) \u001b[38;5;241m-\u001b[39m\u001b[38;5;241m>\u001b[39m Tensor:\n\u001b[1;32m--> 460\u001b[0m     \u001b[38;5;28;01mreturn\u001b[39;00m \u001b[38;5;28;43mself\u001b[39;49m\u001b[38;5;241;43m.\u001b[39;49m\u001b[43m_conv_forward\u001b[49m\u001b[43m(\u001b[49m\u001b[38;5;28;43minput\u001b[39;49m\u001b[43m,\u001b[49m\u001b[43m \u001b[49m\u001b[38;5;28;43mself\u001b[39;49m\u001b[38;5;241;43m.\u001b[39;49m\u001b[43mweight\u001b[49m\u001b[43m,\u001b[49m\u001b[43m \u001b[49m\u001b[38;5;28;43mself\u001b[39;49m\u001b[38;5;241;43m.\u001b[39;49m\u001b[43mbias\u001b[49m\u001b[43m)\u001b[49m\n",
            "File \u001b[1;32mc:\\Users\\91932\\AppData\\Local\\Programs\\Python\\Python310\\lib\\site-packages\\torch\\nn\\modules\\conv.py:456\u001b[0m, in \u001b[0;36mConv2d._conv_forward\u001b[1;34m(self, input, weight, bias)\u001b[0m\n\u001b[0;32m    452\u001b[0m \u001b[38;5;28;01mif\u001b[39;00m \u001b[38;5;28mself\u001b[39m\u001b[38;5;241m.\u001b[39mpadding_mode \u001b[38;5;241m!=\u001b[39m \u001b[38;5;124m'\u001b[39m\u001b[38;5;124mzeros\u001b[39m\u001b[38;5;124m'\u001b[39m:\n\u001b[0;32m    453\u001b[0m     \u001b[38;5;28;01mreturn\u001b[39;00m F\u001b[38;5;241m.\u001b[39mconv2d(F\u001b[38;5;241m.\u001b[39mpad(\u001b[38;5;28minput\u001b[39m, \u001b[38;5;28mself\u001b[39m\u001b[38;5;241m.\u001b[39m_reversed_padding_repeated_twice, mode\u001b[38;5;241m=\u001b[39m\u001b[38;5;28mself\u001b[39m\u001b[38;5;241m.\u001b[39mpadding_mode),\n\u001b[0;32m    454\u001b[0m                     weight, bias, \u001b[38;5;28mself\u001b[39m\u001b[38;5;241m.\u001b[39mstride,\n\u001b[0;32m    455\u001b[0m                     _pair(\u001b[38;5;241m0\u001b[39m), \u001b[38;5;28mself\u001b[39m\u001b[38;5;241m.\u001b[39mdilation, \u001b[38;5;28mself\u001b[39m\u001b[38;5;241m.\u001b[39mgroups)\n\u001b[1;32m--> 456\u001b[0m \u001b[38;5;28;01mreturn\u001b[39;00m \u001b[43mF\u001b[49m\u001b[38;5;241;43m.\u001b[39;49m\u001b[43mconv2d\u001b[49m\u001b[43m(\u001b[49m\u001b[38;5;28;43minput\u001b[39;49m\u001b[43m,\u001b[49m\u001b[43m \u001b[49m\u001b[43mweight\u001b[49m\u001b[43m,\u001b[49m\u001b[43m \u001b[49m\u001b[43mbias\u001b[49m\u001b[43m,\u001b[49m\u001b[43m \u001b[49m\u001b[38;5;28;43mself\u001b[39;49m\u001b[38;5;241;43m.\u001b[39;49m\u001b[43mstride\u001b[49m\u001b[43m,\u001b[49m\n\u001b[0;32m    457\u001b[0m \u001b[43m                \u001b[49m\u001b[38;5;28;43mself\u001b[39;49m\u001b[38;5;241;43m.\u001b[39;49m\u001b[43mpadding\u001b[49m\u001b[43m,\u001b[49m\u001b[43m \u001b[49m\u001b[38;5;28;43mself\u001b[39;49m\u001b[38;5;241;43m.\u001b[39;49m\u001b[43mdilation\u001b[49m\u001b[43m,\u001b[49m\u001b[43m \u001b[49m\u001b[38;5;28;43mself\u001b[39;49m\u001b[38;5;241;43m.\u001b[39;49m\u001b[43mgroups\u001b[49m\u001b[43m)\u001b[49m\n",
            "\u001b[1;31mTypeError\u001b[0m: conv2d() received an invalid combination of arguments - got (list, Parameter, Parameter, tuple, tuple, tuple, int), but expected one of:\n * (Tensor input, Tensor weight, Tensor bias, tuple of ints stride, tuple of ints padding, tuple of ints dilation, int groups)\n      didn't match because some of the arguments have invalid types: (!list of [Tensor, Tensor]!, !Parameter!, !Parameter!, !tuple of (int, int)!, !tuple of (int, int)!, !tuple of (int, int)!, int)\n * (Tensor input, Tensor weight, Tensor bias, tuple of ints stride, str padding, tuple of ints dilation, int groups)\n      didn't match because some of the arguments have invalid types: (!list of [Tensor, Tensor]!, !Parameter!, !Parameter!, !tuple of (int, int)!, !tuple of (int, int)!, !tuple of (int, int)!, int)\n"
          ]
        }
      ],
      "source": [
        "#  model1 and model2 are PyTorch models\n",
        "# data_batch is a PyTorch tensor\n",
        "sim = compare_activations(model1, model2, next(iter(val_loader)))\n",
        "plt.figure(figsize=(30, 15), dpi=200)\n",
        "axes = plt.imshow(sim, cmap='magma', vmin=0.0, vmax=1.0)\n",
        "axes.axes.invert_yaxis()\n",
        "plt.savefig(\"/content/drive/MyDrive/activ_comparison/r50_r101.png\", dpi=400)"
      ]
    },
    {
      "cell_type": "code",
      "execution_count": 3,
      "metadata": {},
      "outputs": [
        {
          "name": "stdout",
          "output_type": "stream",
          "text": [
            "Files already downloaded and verified\n",
            "Number of labels: 10\n",
            "concentration parameters : tensor([1., 1., 1., 1., 1., 1., 1., 1., 1., 1.])\n",
            "tensror: tensor([1., 1., 1., 1., 1., 1., 1., 1., 1., 1.])\n",
            "client label distribution: tensor([[0.0014, 0.0239, 0.0519,  ..., 0.3586, 0.1727, 0.1429],\n",
            "        [0.0244, 0.0491, 0.1940,  ..., 0.0673, 0.3596, 0.0957],\n",
            "        [0.1519, 0.0273, 0.1796,  ..., 0.0850, 0.0417, 0.0164],\n",
            "        ...,\n",
            "        [0.0972, 0.0092, 0.0374,  ..., 0.0863, 0.0023, 0.1119],\n",
            "        [0.0637, 0.1275, 0.1666,  ..., 0.0037, 0.0073, 0.0871],\n",
            "        [0.1049, 0.1208, 0.0961,  ..., 0.0127, 0.0074, 0.0119]])\n"
          ]
        },
        {
          "name": "stderr",
          "output_type": "stream",
          "text": [
            "c:\\Users\\91932\\AppData\\Local\\Programs\\Python\\Python310\\lib\\site-packages\\torch_cka\\cka.py:145: UserWarning: Dataloader for Model 2 is not given. Using the same dataloader for both models.\n",
            "  warn(\"Dataloader for Model 2 is not given. Using the same dataloader for both models.\")\n",
            "| Comparing features |: 100%|██████████| 1563/1563 [01:00<00:00, 25.82it/s]\n"
          ]
        }
      ],
      "source": [
        "import torch\n",
        "from torch_cka import CKA\n",
        "from model import model\n",
        "from dataset import data_generator\n",
        "# dataloader = DataLoader(your_dataset, \n",
        "#                         batch_size=batch_size, # according to your device memory\n",
        "#                         shuffle=False)  # Don't forget to seed your dataloader\n",
        "datasets = data_generator(500)\n",
        "model1 = model()\n",
        "model1.load_state_dict(torch.load('./models/client_0.pt'))\n",
        "model2 = model()\n",
        "model2.load_state_dict(torch.load(\"./models/client_1.pt\"))\n",
        "cka = CKA(model1, model2,\n",
        "          model1_name=\"model1\",   # good idea to provide names to avoid confusion\n",
        "          model2_name=\"model2\")\n",
        "        #   model1_layers=layer_names_resnet18, # List of layers to extract features from\n",
        "        #   model2_layers=layer_names_resnet34, # extracts all layer features by default\n",
        "        #   device='cuda')\n",
        "\n",
        "cka.compare(datasets[0]) # secondary dataloader is optional\n",
        "\n",
        "results = cka.export()  # returns a dict that contains model names, layer names\n",
        "                        # and the CKA matrix"
      ]
    },
    {
      "cell_type": "code",
      "execution_count": 15,
      "metadata": {},
      "outputs": [
        {
          "name": "stdout",
          "output_type": "stream",
          "text": [
            "tensor(-0.0084)\n"
          ]
        }
      ],
      "source": [
        "results['CKA']\n",
        "sum = 0\n",
        "for i in range(len(results['CKA'])):\n",
        "    sum += results['CKA'][i][i]\n",
        "print(sum)"
      ]
    },
    {
      "cell_type": "code",
      "execution_count": 11,
      "metadata": {},
      "outputs": [
        {
          "data": {
            "text/plain": [
              "-0.008431729"
            ]
          },
          "execution_count": 11,
          "metadata": {},
          "output_type": "execute_result"
        }
      ],
      "source": [
        "import numpy\n",
        "array = results['CKA'].numpy()\n",
        "array.diagonal().sum()"
      ]
    },
    {
      "cell_type": "code",
      "execution_count": 29,
      "metadata": {},
      "outputs": [
        {
          "data": {
            "image/png": "[encoded data removed]",
            "text/plain": [
              "<Figure size 1000x800 with 2 Axes>"
            ]
          },
          "metadata": {},
          "output_type": "display_data"
        }
      ],
      "source": [
        "import seaborn as sns\n",
        "plt.figure(figsize=(10, 8))\n",
        "sns.heatmap(results['CKA'], annot=True, cmap='viridis', xticklabels=results['model1_layers'], yticklabels=results['model2_layers'])\n",
        "plt.title('Central Kernel Alignment (CKA) Heatmap')\n",
        "plt.xlabel('Model 1 Layers')\n",
        "plt.ylabel('Model 2 Layers')\n",
        "plt.xticks(rotation=45)\n",
        "plt.yticks(rotation=0)\n",
        "plt.tight_layout()\n",
        "plt.show()"
      ]
    },
    {
      "cell_type": "code",
      "execution_count": 10,
      "metadata": {},
      "outputs": [
        {
          "data": {
            "image/png": "[encoded data removed]",
            "text/plain": [
              "<Figure size 1000x600 with 1 Axes>"
            ]
          },
          "metadata": {},
          "output_type": "display_data"
        },
        {
          "name": "stdout",
          "output_type": "stream",
          "text": [
            "Final Clusters:\n",
            "Cluster 1: client_0, client_1, client_2, client_3\n",
            "Cluster 2: client_4\n"
          ]
        }
      ],
      "source": [
        "import numpy as np\n",
        "from scipy.cluster.hierarchy import linkage, dendrogram, fcluster\n",
        "import matplotlib.pyplot as plt\n",
        "\n",
        "# Your data\n",
        "data = [\n",
        "    ('client_0', 'client_1', 0.002697513),\n",
        "    ('client_0', 'client_2', -0.0002878192),\n",
        "    ('client_0', 'client_3', 0.001900201),\n",
        "    ('client_0', 'client_4', -0.008431232),\n",
        "    ('client_1', 'client_2', -0.00040878973),\n",
        "    ('client_1', 'client_3', 0.0021052486),\n",
        "    ('client_1', 'client_4', -0.0025824648),\n",
        "    ('client_2', 'client_3', 0.0041731466),\n",
        "    ('client_2', 'client_4', -0.010167966),\n",
        "    ('client_3', 'client_4', -0.0029476644)\n",
        "]\n",
        "\n",
        "# Extracting unique clients\n",
        "clients = sorted(set([item[0] for item in data] + [item[1] for item in data]))\n",
        "\n",
        "# Creating a distance matrix\n",
        "n = len(clients)\n",
        "distances = np.zeros((n, n))\n",
        "for i in range(n):\n",
        "    for j in range(n):\n",
        "        if i != j:\n",
        "            for item in data:\n",
        "                if (item[0] == clients[i] and item[1] == clients[j]) or (item[0] == clients[j] and item[1] == clients[i]):\n",
        "                    distances[i, j] = item[2]\n",
        "                    break\n",
        "\n",
        "# Hierarchical clustering\n",
        "linkage_matrix = linkage(distances, method='complete')\n",
        "\n",
        "# Plotting dendrogram\n",
        "plt.figure(figsize=(10, 6))\n",
        "dendrogram(linkage_matrix, labels=clients)\n",
        "plt.title('Hierarchical Clustering Dendrogram')\n",
        "plt.xlabel('Clients')\n",
        "plt.ylabel('Distance')\n",
        "plt.show()\n",
        "\n",
        "# Cutting dendrogram at a distance threshold\n",
        "threshold = 0.015 # Adjust this threshold as needed\n",
        "clusters = fcluster(linkage_matrix, threshold, criterion='distance')\n",
        "\n",
        "# Printing final clusters\n",
        "cluster_dict = {}\n",
        "for client, cluster_id in zip(clients, clusters):\n",
        "    if cluster_id not in cluster_dict:\n",
        "        cluster_dict[cluster_id] = []\n",
        "    cluster_dict[cluster_id].append(client)\n",
        "\n",
        "print(\"Final Clusters:\")\n",
        "for cluster_id, members in cluster_dict.items():\n",
        "    print(f\"Cluster {cluster_id}: {', '.join(members)}\")\n"
      ]
    }
  ],
  "metadata": {
    "accelerator": "GPU",
    "colab": {
      "provenance": [],
      "toc_visible": true
    },
    "kernelspec": {
      "display_name": "Python 3",
      "name": "python3"
    },
    "language_info": {
      "codemirror_mode": {
        "name": "ipython",
        "version": 3
      },
      "file_extension": ".py",
      "mimetype": "text/x-python",
      "name": "python",
      "nbconvert_exporter": "python",
      "pygments_lexer": "ipython3",
      "version": "3.10.7"
    }
  },
  "nbformat": 4,
  "nbformat_minor": 0
}
